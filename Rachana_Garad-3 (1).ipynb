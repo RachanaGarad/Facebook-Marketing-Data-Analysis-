{
 "cells": [
  {
   "cell_type": "markdown",
   "id": "b6029d8e",
   "metadata": {},
   "source": [
    "<hr style=\"height:.9px;border:none;color:#333;background-color:#333;\" />\n",
    "<hr style=\"height:.9px;border:none;color:#333;background-color:#333;\" />\n",
    "\n",
    "<br><h>Unsupervised Analysis Project - Rachana Garad</h>\n",
    "\n",
    "<h>DAT-5329 | Introduction to Machine Learning & AI</h>\n",
    "Chase Kusterer - Faculty of Analytics<br>\n",
    "Hult International Business School<br><br><br>\n",
    "\n",
    "<hr style=\"height:.9px;border:none;color:#333;background-color:#333;\" />\n",
    "<hr style=\"height:.9px;border:none;color:#333;background-color:#333;\" />"
   ]
  },
  {
   "cell_type": "markdown",
   "id": "d56cf9a8",
   "metadata": {},
   "source": [
    "# introduction \n",
    "\n",
    "The marketing landscape is evolving rapidly with the advent of social media, and within this space, video content, especially live streaming, has emerged as a critical player.This study explores the effects of video content with a particular focus on Facebook Live sellers in Thailand, a market that has shown a high level of interest in live streaming as a social commerce platform. The dataset used for this analysis consists of 7,050 Facebook posts from Thai retail sellers of clothing and cosmetics between March 2012 and June 2018. The posts come in a variety of formats, including text, deferred videos, live videos, and images. This extensive dataset was gathered through the Facebook API and offers a distinctive perspective for analyzing the subtleties of consumer interaction and Facebook Live's revolutionary impact on retailers' digital marketing strategies. By analyzing engagement metrics such as shares, comments, and emoji reactions, this study aims to offer insights into the evolving preferences and behaviors of social media users in Thailand, reinforcing the hypothesis that video content, particularly live streaming, holds substantial potential for enhancing customer engagement and interaction in the social commerce landscape."
   ]
  },
  {
   "cell_type": "markdown",
   "id": "d6d8bbed",
   "metadata": {},
   "source": [
    "<h2>Part I: Preparation</h2><br>\n",
    "Run the following code to import necessary packages, load data, and set display options for pandas. "
   ]
  },
  {
   "cell_type": "code",
   "execution_count": 682,
   "id": "5970c56b",
   "metadata": {},
   "outputs": [],
   "source": [
    "########################################\n",
    "# importing packages\n",
    "########################################\n",
    "import numpy             as np                   # mathematical essentials\n",
    "import pandas            as pd                   # data science essentials\n",
    "import matplotlib.pyplot as plt                  # fundamental data visualization\n",
    "import seaborn           as sns                  # enhanced visualization\n",
    "from sklearn.preprocessing import StandardScaler # standard scaler\n",
    "from sklearn.decomposition import PCA            # pca\n",
    "from scipy.cluster.hierarchy import dendrogram, linkage # dendrograms\n",
    "from sklearn.cluster         import KMeans              # k-means clustering\n",
    "from sklearn.metrics import confusion_matrix, roc_auc_score\n",
    "from sklearn.model_selection import train_test_split        # train-test split\n",
    "\n",
    "########################################\n",
    "# loading data and setting display options\n",
    "########################################\n",
    "# loading data\n",
    "df = pd.read_excel(io = './datasets/facebook_live_data.xlsx')\n",
    "\n",
    "\n",
    "# setting print options\n",
    "pd.set_option('display.max_rows', 500)\n",
    "pd.set_option('display.max_columns', 500)\n",
    "pd.set_option('display.width', 1000)\n",
    "pd.set_option('display.max_colwidth', 100)"
   ]
  },
  {
   "cell_type": "markdown",
   "id": "e2b94682",
   "metadata": {},
   "source": [
    "<hr style=\"height:.9px;border:none;color:#333;background-color:#333;\" /><br>\n",
    "\n",
    "User-Defined Functions "
   ]
  },
  {
   "cell_type": "code",
   "execution_count": 683,
   "id": "d0254fd7",
   "metadata": {},
   "outputs": [],
   "source": [
    "########################################\n",
    "# scree_plot\n",
    "########################################\n",
    "def scree_plot(pca_object, export = False):\n",
    "    # building a scree plot\n",
    "\n",
    "    # setting plot size\n",
    "    fig, ax = plt.subplots(figsize=(10, 8))\n",
    "    features = range(pca_object.n_components_)\n",
    "\n",
    "\n",
    "    # developing a scree plot\n",
    "    plt.plot(features,\n",
    "             pca_object.explained_variance_ratio_,\n",
    "             linewidth = 2,\n",
    "             marker = 'o',\n",
    "             markersize = 10,\n",
    "             markeredgecolor = 'black',\n",
    "             markerfacecolor = 'grey')\n",
    "\n",
    "\n",
    "    # setting more plot options\n",
    "    plt.title('Scree Plot')\n",
    "    plt.xlabel('PCA feature')\n",
    "    plt.ylabel('Explained Variance')\n",
    "    plt.xticks(features)\n",
    "\n",
    "    if export == True:\n",
    "    \n",
    "        # exporting the plot\n",
    "        plt.savefig('./analysis_images/top_customers_correlation_scree_plot.png')\n",
    "        \n",
    "    # displaying the plot\n",
    "    plt.show()\n",
    "\n",
    "\n",
    "########################################\n",
    "# unsupervised_scaler\n",
    "########################################\n",
    "def scaler(df):\n",
    "    \"\"\"\n",
    "    Standardizes a dataset (mean = 0, variance = 1). Returns a new DataFrame.\n",
    "    Requires sklearn.preprocessing.StandardScaler()\n",
    "    \n",
    "    PARAMETERS\n",
    "    ----------\n",
    "    df     | DataFrame to be used for scaling\n",
    "    \"\"\"\n",
    "\n",
    "    # INSTANTIATING a StandardScaler() object\n",
    "    scaler = StandardScaler(copy = True)\n",
    "\n",
    "\n",
    "    # FITTING the scaler with the data\n",
    "    scaler.fit(df)\n",
    "\n",
    "\n",
    "    # TRANSFORMING our data after fit\n",
    "    x_scaled = scaler.transform(df)\n",
    "\n",
    "    \n",
    "    # converting scaled data into a DataFrame\n",
    "    new_df = pd.DataFrame(x_scaled)\n",
    "\n",
    "\n",
    "    # reattaching column names\n",
    "    new_df.columns = list(df.columns)\n",
    "    \n",
    "    return new_df\n",
    "# standard_scaler\n",
    "def standard_scaler(df):\n",
    "    \"\"\"\n",
    "    Standardizes a dataset (mean = 0, variance = 1). Returns a new DataFrame.\n",
    "    Requires sklearn.preprocessing.StandardScaler()\n",
    "    \n",
    "    PARAMETERS\n",
    "    ----------\n",
    "    df     | DataFrame to be used for scaling\n",
    "    \"\"\"\n",
    "\n",
    "    # INSTANTIATING a StandardScaler() object\n",
    "    scaler = StandardScaler(copy = True)\n",
    "\n",
    "\n",
    "    # FITTING the scaler with the data\n",
    "    scaler.fit(df)\n",
    "\n",
    "\n",
    "    # TRANSFORMING our data after fit\n",
    "    x_scaled = scaler.transform(df)\n",
    "\n",
    "    \n",
    "    # converting scaled data into a DataFrame\n",
    "    new_df = pd.DataFrame(x_scaled)\n",
    "\n",
    "\n",
    "    # reattaching column names\n",
    "    new_df.columns = list(df.columns)\n",
    "    \n",
    "    return new_df\n",
    "\n",
    "\n",
    "\n"
   ]
  },
  {
   "cell_type": "markdown",
   "id": "8413bfb0",
   "metadata": {},
   "source": [
    "<hr style=\"height:.9px;border:none;color:#333;background-color:#333;\" /><br>\n",
    "<h1>Part II - Data Preprocessing</h1>\n",
    "<hr style=\"height:.9px;border:none;color:#333;background-color:#333;\" /><br>"
   ]
  },
  {
   "cell_type": "markdown",
   "id": "b84b0692",
   "metadata": {},
   "source": [
    "<h2>Base modeling</h2>"
   ]
  },
  {
   "cell_type": "code",
   "execution_count": 684,
   "id": "4e11dd44",
   "metadata": {},
   "outputs": [
    {
     "data": {
      "text/html": [
       "<div>\n",
       "<style scoped>\n",
       "    .dataframe tbody tr th:only-of-type {\n",
       "        vertical-align: middle;\n",
       "    }\n",
       "\n",
       "    .dataframe tbody tr th {\n",
       "        vertical-align: top;\n",
       "    }\n",
       "\n",
       "    .dataframe thead th {\n",
       "        text-align: right;\n",
       "    }\n",
       "</style>\n",
       "<table border=\"1\" class=\"dataframe\">\n",
       "  <thead>\n",
       "    <tr style=\"text-align: right;\">\n",
       "      <th></th>\n",
       "      <th>time_published</th>\n",
       "      <th>day</th>\n",
       "      <th>month</th>\n",
       "      <th>year</th>\n",
       "      <th>hour</th>\n",
       "    </tr>\n",
       "  </thead>\n",
       "  <tbody>\n",
       "    <tr>\n",
       "      <th>0</th>\n",
       "      <td>2018-04-22 06:00:00</td>\n",
       "      <td>22</td>\n",
       "      <td>4</td>\n",
       "      <td>2018</td>\n",
       "      <td>6</td>\n",
       "    </tr>\n",
       "    <tr>\n",
       "      <th>1</th>\n",
       "      <td>2018-04-18 03:22:00</td>\n",
       "      <td>18</td>\n",
       "      <td>4</td>\n",
       "      <td>2018</td>\n",
       "      <td>3</td>\n",
       "    </tr>\n",
       "    <tr>\n",
       "      <th>2</th>\n",
       "      <td>2018-04-18 00:24:00</td>\n",
       "      <td>18</td>\n",
       "      <td>4</td>\n",
       "      <td>2018</td>\n",
       "      <td>0</td>\n",
       "    </tr>\n",
       "    <tr>\n",
       "      <th>3</th>\n",
       "      <td>2018-04-11 04:53:00</td>\n",
       "      <td>11</td>\n",
       "      <td>4</td>\n",
       "      <td>2018</td>\n",
       "      <td>4</td>\n",
       "    </tr>\n",
       "    <tr>\n",
       "      <th>4</th>\n",
       "      <td>2018-04-09 02:06:00</td>\n",
       "      <td>9</td>\n",
       "      <td>4</td>\n",
       "      <td>2018</td>\n",
       "      <td>2</td>\n",
       "    </tr>\n",
       "  </tbody>\n",
       "</table>\n",
       "</div>"
      ],
      "text/plain": [
       "       time_published  day  month  year  hour\n",
       "0 2018-04-22 06:00:00   22      4  2018     6\n",
       "1 2018-04-18 03:22:00   18      4  2018     3\n",
       "2 2018-04-18 00:24:00   18      4  2018     0\n",
       "3 2018-04-11 04:53:00   11      4  2018     4\n",
       "4 2018-04-09 02:06:00    9      4  2018     2"
      ]
     },
     "execution_count": 684,
     "metadata": {},
     "output_type": "execute_result"
    }
   ],
   "source": [
    "# Extracting date, month, year, and time from the 'time_published' column\n",
    "df['day'] = df['time_published'].dt.day\n",
    "df['month'] = df['time_published'].dt.month\n",
    "df['year'] = df['time_published'].dt.year\n",
    "df['hour'] = df['time_published'].dt.hour\n",
    "\n",
    "# Displaying the first few rows to confirm the extraction\n",
    "df[['time_published', 'day', 'month', 'year', 'hour']].head()\n",
    "\n",
    "\n"
   ]
  },
  {
   "cell_type": "markdown",
   "id": "d4d2987a",
   "metadata": {},
   "source": [
    "<hr style=\"height:.9px;border:none;color:#333;background-color:#333;\" /><br>\n",
    "<h1>Part III - Exploratory Data Analysis</h1>\n",
    "<hr style=\"height:.9px;border:none;color:#333;background-color:#333;\" /><br>"
   ]
  },
  {
   "cell_type": "code",
   "execution_count": 685,
   "id": "98071aba",
   "metadata": {},
   "outputs": [
    {
     "data": {
      "text/plain": [
       "status_id         0\n",
       "status_type       0\n",
       "time_published    0\n",
       "num_comments      0\n",
       "num_shares        0\n",
       "num_likes         0\n",
       "num_loves         0\n",
       "num_wows          0\n",
       "num_hahas         0\n",
       "num_sads          0\n",
       "num_angrys        0\n",
       "day               0\n",
       "month             0\n",
       "year              0\n",
       "hour              0\n",
       "dtype: int64"
      ]
     },
     "execution_count": 685,
     "metadata": {},
     "output_type": "execute_result"
    }
   ],
   "source": [
    "#checking the null value \n",
    "df.isnull().sum()"
   ]
  },
  {
   "cell_type": "markdown",
   "id": "9b3983eb",
   "metadata": {},
   "source": [
    "Dataset does not contain any null value "
   ]
  },
  {
   "cell_type": "code",
   "execution_count": 686,
   "id": "0c8e272d",
   "metadata": {},
   "outputs": [
    {
     "name": "stderr",
     "output_type": "stream",
     "text": [
      "C:\\Users\\racha\\AppData\\Local\\Temp\\ipykernel_3104\\2293172334.py:20: MatplotlibDeprecationWarning: Auto-removal of overlapping axes is deprecated since 3.6 and will be removed two minor releases later; explicitly call ax.remove() as needed.\n",
      "  plt.subplot(4, 4, count)\n",
      "C:\\Users\\racha\\anaconda3\\Lib\\site-packages\\seaborn\\_oldcore.py:1119: FutureWarning: use_inf_as_na option is deprecated and will be removed in a future version. Convert inf values to NaN before operating instead.\n",
      "  with pd.option_context('mode.use_inf_as_na', True):\n",
      "C:\\Users\\racha\\anaconda3\\Lib\\site-packages\\seaborn\\_oldcore.py:1119: FutureWarning: use_inf_as_na option is deprecated and will be removed in a future version. Convert inf values to NaN before operating instead.\n",
      "  with pd.option_context('mode.use_inf_as_na', True):\n",
      "C:\\Users\\racha\\anaconda3\\Lib\\site-packages\\seaborn\\_oldcore.py:1119: FutureWarning: use_inf_as_na option is deprecated and will be removed in a future version. Convert inf values to NaN before operating instead.\n",
      "  with pd.option_context('mode.use_inf_as_na', True):\n",
      "C:\\Users\\racha\\anaconda3\\Lib\\site-packages\\seaborn\\_oldcore.py:1119: FutureWarning: use_inf_as_na option is deprecated and will be removed in a future version. Convert inf values to NaN before operating instead.\n",
      "  with pd.option_context('mode.use_inf_as_na', True):\n",
      "C:\\Users\\racha\\anaconda3\\Lib\\site-packages\\seaborn\\_oldcore.py:1119: FutureWarning: use_inf_as_na option is deprecated and will be removed in a future version. Convert inf values to NaN before operating instead.\n",
      "  with pd.option_context('mode.use_inf_as_na', True):\n",
      "C:\\Users\\racha\\anaconda3\\Lib\\site-packages\\seaborn\\_oldcore.py:1119: FutureWarning: use_inf_as_na option is deprecated and will be removed in a future version. Convert inf values to NaN before operating instead.\n",
      "  with pd.option_context('mode.use_inf_as_na', True):\n",
      "C:\\Users\\racha\\anaconda3\\Lib\\site-packages\\seaborn\\_oldcore.py:1119: FutureWarning: use_inf_as_na option is deprecated and will be removed in a future version. Convert inf values to NaN before operating instead.\n",
      "  with pd.option_context('mode.use_inf_as_na', True):\n",
      "C:\\Users\\racha\\anaconda3\\Lib\\site-packages\\seaborn\\_oldcore.py:1119: FutureWarning: use_inf_as_na option is deprecated and will be removed in a future version. Convert inf values to NaN before operating instead.\n",
      "  with pd.option_context('mode.use_inf_as_na', True):\n",
      "C:\\Users\\racha\\anaconda3\\Lib\\site-packages\\seaborn\\_oldcore.py:1119: FutureWarning: use_inf_as_na option is deprecated and will be removed in a future version. Convert inf values to NaN before operating instead.\n",
      "  with pd.option_context('mode.use_inf_as_na', True):\n",
      "C:\\Users\\racha\\anaconda3\\Lib\\site-packages\\seaborn\\_oldcore.py:1119: FutureWarning: use_inf_as_na option is deprecated and will be removed in a future version. Convert inf values to NaN before operating instead.\n",
      "  with pd.option_context('mode.use_inf_as_na', True):\n",
      "C:\\Users\\racha\\anaconda3\\Lib\\site-packages\\seaborn\\_oldcore.py:1119: FutureWarning: use_inf_as_na option is deprecated and will be removed in a future version. Convert inf values to NaN before operating instead.\n",
      "  with pd.option_context('mode.use_inf_as_na', True):\n",
      "C:\\Users\\racha\\anaconda3\\Lib\\site-packages\\seaborn\\_oldcore.py:1119: FutureWarning: use_inf_as_na option is deprecated and will be removed in a future version. Convert inf values to NaN before operating instead.\n",
      "  with pd.option_context('mode.use_inf_as_na', True):\n",
      "C:\\Users\\racha\\anaconda3\\Lib\\site-packages\\seaborn\\_oldcore.py:1119: FutureWarning: use_inf_as_na option is deprecated and will be removed in a future version. Convert inf values to NaN before operating instead.\n",
      "  with pd.option_context('mode.use_inf_as_na', True):\n",
      "C:\\Users\\racha\\anaconda3\\Lib\\site-packages\\seaborn\\_oldcore.py:1119: FutureWarning: use_inf_as_na option is deprecated and will be removed in a future version. Convert inf values to NaN before operating instead.\n",
      "  with pd.option_context('mode.use_inf_as_na', True):\n",
      "C:\\Users\\racha\\anaconda3\\Lib\\site-packages\\seaborn\\_oldcore.py:1119: FutureWarning: use_inf_as_na option is deprecated and will be removed in a future version. Convert inf values to NaN before operating instead.\n",
      "  with pd.option_context('mode.use_inf_as_na', True):\n"
     ]
    },
    {
     "data": {
      "image/png": "[encoded data removed]",
      "text/plain": [
       "<Figure size 1200x800 with 15 Axes>"
      ]
     },
     "metadata": {},
     "output_type": "display_data"
    }
   ],
   "source": [
    "# setting figure size\n",
    "fig, ax = plt.subplots(figsize = (12, 8))\n",
    "\n",
    "\n",
    "# initializing a counter\n",
    "count = 0\n",
    "\n",
    "\n",
    "# looping to create visualizations\n",
    "for col in df:\n",
    "\n",
    "    # condition to break\n",
    "    if count == 17:\n",
    "        break\n",
    "    \n",
    "    # increasing count\n",
    "    count += 1\n",
    "    \n",
    "    # preparing histograms\n",
    "    plt.subplot(4, 4, count)\n",
    "    sns.histplot(x = df[col],)\n",
    "\n",
    "\n",
    "# formatting, saving, and displaying the plot\n",
    "plt.tight_layout()\n",
    "plt.show()"
   ]
  },
  {
   "cell_type": "markdown",
   "id": "10bdf367",
   "metadata": {},
   "source": [
    "<hr style=\"height:.9px;border:none;color:#333;background-color:#333;\" />\n",
    "The distribution of several attributes associated with Facebook social media posts is displayed in the histogram grid. Videos are the most popular post type, according to the status type histogram, indicating a deliberate emphasis on video material. The trend of more recent posts, which peaked in 2018, can be attributed to either growing platform usage or a deliberate shift in the content type over time. Similar to social media dynamics, where a small number of posts achieve significant traction, engagement measures such as shares, likes, loves, and comments show highly skewed distributions, with the majority of postings obtaining lesser interaction. Furthermore, there is a significant right-skewedness in the histograms for reactions like \"hahas,\" \"sads,\" and \"angrys,\" suggesting that negative reactions are less frequent and maybe reflecting a generally positive response.of posts or a user tendency to engage more with \"like\" and \"love\" reactions.\n",
    "<hr style=\"height:.9px;border:none;color:#333;background-color:#333;\" />"
   ]
  },
  {
   "cell_type": "markdown",
   "id": "c4bf8709",
   "metadata": {},
   "source": [
    "<h2>Define video or not</h2>"
   ]
  },
  {
   "cell_type": "code",
   "execution_count": 687,
   "id": "720ab84e",
   "metadata": {},
   "outputs": [
    {
     "data": {
      "text/plain": [
       "is_video\n",
       "1     778\n",
       "0    1519\n",
       "Name: count, dtype: int64"
      ]
     },
     "execution_count": 687,
     "metadata": {},
     "output_type": "execute_result"
    }
   ],
   "source": [
    "# Add a new column 'is_video' using an if clause\n",
    "df['is_video'] = df['status_type'].apply(lambda x: 1 if x == 'video' else 0)\n",
    "\n",
    "# checking results\n",
    "df['is_video'].value_counts(normalize = False,\n",
    "                            sort      = False,\n",
    "                            ascending = False)"
   ]
  },
  {
   "cell_type": "code",
   "execution_count": 688,
   "id": "a3274145",
   "metadata": {},
   "outputs": [
    {
     "name": "stdout",
     "output_type": "stream",
     "text": [
      "  status_type  is_video\n",
      "0       video         1\n",
      "1       photo         0\n",
      "2       video         1\n",
      "3       photo         0\n",
      "4       photo         0\n"
     ]
    }
   ],
   "source": [
    "# Assuming 'df' is your DataFrame\n",
    "# Create a new column 'is_video' where the value is 1 if 'status_type' is 'video', else 0\n",
    "df['is_video'] = df['status_type'].apply(lambda x: 1 if x == 'video' else 0)\n",
    "\n",
    "# Display the first few rows to verify the transformation\n",
    "print(df[['status_type', 'is_video']].head())\n"
   ]
  },
  {
   "cell_type": "code",
   "execution_count": 689,
   "id": "2265cdf9",
   "metadata": {},
   "outputs": [
    {
     "data": {
      "text/html": [
       "<div>\n",
       "<style scoped>\n",
       "    .dataframe tbody tr th:only-of-type {\n",
       "        vertical-align: middle;\n",
       "    }\n",
       "\n",
       "    .dataframe tbody tr th {\n",
       "        vertical-align: top;\n",
       "    }\n",
       "\n",
       "    .dataframe thead th {\n",
       "        text-align: right;\n",
       "    }\n",
       "</style>\n",
       "<table border=\"1\" class=\"dataframe\">\n",
       "  <thead>\n",
       "    <tr style=\"text-align: right;\">\n",
       "      <th></th>\n",
       "      <th>num_comments</th>\n",
       "      <th>num_shares</th>\n",
       "      <th>num_likes</th>\n",
       "      <th>num_loves</th>\n",
       "      <th>num_wows</th>\n",
       "      <th>num_hahas</th>\n",
       "      <th>num_sads</th>\n",
       "      <th>num_angrys</th>\n",
       "      <th>total_engagement</th>\n",
       "      <th>positive_engagement</th>\n",
       "      <th>negative_engagement</th>\n",
       "    </tr>\n",
       "    <tr>\n",
       "      <th>status_type</th>\n",
       "      <th></th>\n",
       "      <th></th>\n",
       "      <th></th>\n",
       "      <th></th>\n",
       "      <th></th>\n",
       "      <th></th>\n",
       "      <th></th>\n",
       "      <th></th>\n",
       "      <th></th>\n",
       "      <th></th>\n",
       "      <th></th>\n",
       "    </tr>\n",
       "  </thead>\n",
       "  <tbody>\n",
       "    <tr>\n",
       "      <th>video</th>\n",
       "      <td>448040</td>\n",
       "      <td>86372</td>\n",
       "      <td>181266</td>\n",
       "      <td>27723</td>\n",
       "      <td>2284</td>\n",
       "      <td>1182</td>\n",
       "      <td>344</td>\n",
       "      <td>193</td>\n",
       "      <td>747404</td>\n",
       "      <td>212455</td>\n",
       "      <td>537</td>\n",
       "    </tr>\n",
       "    <tr>\n",
       "      <th>photo</th>\n",
       "      <td>18102</td>\n",
       "      <td>3146</td>\n",
       "      <td>268836</td>\n",
       "      <td>1980</td>\n",
       "      <td>951</td>\n",
       "      <td>241</td>\n",
       "      <td>198</td>\n",
       "      <td>32</td>\n",
       "      <td>293486</td>\n",
       "      <td>272008</td>\n",
       "      <td>230</td>\n",
       "    </tr>\n",
       "    <tr>\n",
       "      <th>text</th>\n",
       "      <td>5108</td>\n",
       "      <td>331</td>\n",
       "      <td>59278</td>\n",
       "      <td>264</td>\n",
       "      <td>188</td>\n",
       "      <td>13</td>\n",
       "      <td>34</td>\n",
       "      <td>5</td>\n",
       "      <td>65221</td>\n",
       "      <td>59743</td>\n",
       "      <td>39</td>\n",
       "    </tr>\n",
       "  </tbody>\n",
       "</table>\n",
       "</div>"
      ],
      "text/plain": [
       "             num_comments  num_shares  num_likes  num_loves  num_wows  num_hahas  num_sads  num_angrys  total_engagement  positive_engagement  negative_engagement\n",
       "status_type                                                                                                                                                       \n",
       "video              448040       86372     181266      27723      2284       1182       344         193            747404               212455                  537\n",
       "photo               18102        3146     268836       1980       951        241       198          32            293486               272008                  230\n",
       "text                 5108         331      59278        264       188         13        34           5             65221                59743                   39"
      ]
     },
     "execution_count": 689,
     "metadata": {},
     "output_type": "execute_result"
    }
   ],
   "source": [
    "# First, group the data by 'status_type'\n",
    "grouped = df.groupby('status_type')\n",
    "\n",
    "# Calculate the sum of each engagement type for each status_type\n",
    "engagement_sums = grouped[['num_comments', 'num_shares', 'num_likes', 'num_loves', 'num_wows', 'num_hahas', 'num_sads', 'num_angrys']].sum()\n",
    "\n",
    "# Calculate total engagement by summing all reaction types into a new column\n",
    "engagement_sums['total_engagement'] = engagement_sums.sum(axis=1)\n",
    "\n",
    "# Classify 'likes', 'loves', 'wows', and 'hahas' as positive and 'sads' and 'angrys' as negative\n",
    "engagement_sums['positive_engagement'] = engagement_sums[['num_likes', 'num_loves', 'num_wows', 'num_hahas']].sum(axis=1)\n",
    "engagement_sums['negative_engagement'] = engagement_sums[['num_sads', 'num_angrys']].sum(axis=1)\n",
    "\n",
    "# Calculate the number of posts for each content type\n",
    "content_counts = df['status_type'].value_counts()\n",
    "\n",
    "# Sort the DataFrame based on the total engagement rate for better visualization\n",
    "engagement_sums_sorted = engagement_sums.sort_values(by='total_engagement', ascending=False).round(4)\n",
    "\n",
    "# Display the results\n",
    "engagement_sums_sorted\n"
   ]
  },
  {
   "cell_type": "markdown",
   "id": "0bc49bbf",
   "metadata": {},
   "source": [
    "<hr style=\"height:.9px;border:none;color:#333;background-color:#333;\" />\n",
    "<h2>Analysis Questions 2</h2><br>\n",
    "In terms of reactions (likes, loves, etc.), how do videos perform when compared to other forms of content? Are they leading in terms of total engagement? What about in engagement on specific reactions? (minimum 10 sentences)\n",
    "\n",
    "\n",
    "\n",
    "<h5>Answer</h5>\n",
    "\n",
    "- When comparing engagement metrics for various content types on Facebook, it is clear that videos outperform photos and text posts in terms of total engagement. This comprehensive engagement is reflected in the increased number of comments, shares, and reactions, indicating that videos have a greater ability to capture audience attention and encourage interaction. The significant increase in comments (448,040) and shares (86,372) for videos demonstrates their effectiveness in promoting discussions and increasing content visibility across user networks. Furthermore, the diverse emotional responses elicited by videos, including a large number of 'likes' (181,266) and 'loves' (27,723), demonstrate their ability to elicit positive audience reactions.\n",
    "\n",
    "- However, when it comes to creating favorable reactions, photos still have a competitive advantage over videos, with a higher collective tally of 'likes' and 'loves'. This shows that, while videos drive total engagement, photos may still have a stronger positive emotional impact on consumers. Interestingly, videos have a little higher prevalence of negative reactions, indicating that they have the ability to elicit a wider range of audience responses. Despite this, the overall trend emphasizes the key role of video content in engaging social media audiences, highlighting its importance in digital marketing strategies for promoting community participation and increasing brand visibility.\n",
    "\n",
    "\n",
    "<hr style=\"height:.9px;border:none;color:#333;background-color:#333;\" />"
   ]
  },
  {
   "cell_type": "markdown",
   "id": "809c0d8a",
   "metadata": {},
   "source": [
    "**<h2>Standardization</h2><br>**"
   ]
  },
  {
   "cell_type": "code",
   "execution_count": 690,
   "id": "fbc57d9e",
   "metadata": {},
   "outputs": [
    {
     "name": "stdout",
     "output_type": "stream",
     "text": [
      "num_comments    600747.659991\n",
      "num_shares       15777.648758\n",
      "num_likes       199283.755500\n",
      "num_loves         1623.436268\n",
      "num_wows           103.026569\n",
      "num_hahas            8.475518\n",
      "num_sads             2.985442\n",
      "num_angrys           0.306909\n",
      "dtype: float64 \n",
      "\n",
      "\n",
      "num_comments    1.0\n",
      "num_shares      1.0\n",
      "num_likes       1.0\n",
      "num_loves       1.0\n",
      "num_wows        1.0\n",
      "num_hahas       1.0\n",
      "num_sads        1.0\n",
      "num_angrys      1.0\n",
      "dtype: float64\n"
     ]
    },
    {
     "name": "stderr",
     "output_type": "stream",
     "text": [
      "C:\\Users\\racha\\anaconda3\\Lib\\site-packages\\numpy\\core\\fromnumeric.py:3785: FutureWarning: The behavior of DataFrame.var with axis=None is deprecated, in a future version this will reduce over both axes and return a scalar. To retain the old behavior, pass axis=0 (or do not pass axis)\n",
      "  return var(axis=axis, dtype=dtype, out=out, ddof=ddof, **kwargs)\n"
     ]
    }
   ],
   "source": [
    "# dropping some clouman information\n",
    "metrics_behavior = df.drop(['status_id','status_type','time_published',\n",
    "                           'month' ,'year', 'hour','day','is_video' ],\n",
    "                                      axis = 1)\n",
    "\n",
    "\n",
    "# applying the unsupervised_scaler function\n",
    "metrics_scaled = scaler(df = metrics_behavior)\n",
    "\n",
    "\n",
    "# checking pre- and post-scaling variance\n",
    "print(np.var(metrics_behavior), '\\n\\n')\n",
    "print(np.var(metrics_scaled))"
   ]
  },
  {
   "cell_type": "markdown",
   "id": "3a812e7e",
   "metadata": {},
   "source": [
    "<hr style=\"height:.9px;border:none;color:#333;background-color:#333;\" />\n",
    "Initial variances are on widely differing scales, reflecting the different units and ranges of the original data.\n",
    "\n",
    "After scaling, the variances of all scaled continuous features become 1.0. This is indicative of standard scaling, which transforms the data to have a mean of 0 and a standard deviation of 1. \n",
    "<hr style=\"height:.9px;border:none;color:#333;background-color:#333;\" />"
   ]
  },
  {
   "cell_type": "code",
   "execution_count": 691,
   "id": "f099a001",
   "metadata": {},
   "outputs": [
    {
     "data": {
      "image/png": "[encoded data removed]",
      "text/plain": [
       "<Figure size 800x800 with 2 Axes>"
      ]
     },
     "metadata": {},
     "output_type": "display_data"
    }
   ],
   "source": [
    "# setting plot size\n",
    "fig, ax = plt.subplots(figsize = (8, 8))\n",
    "\n",
    "\n",
    "# developing a correlation matrix object\n",
    "df_corr = metrics_scaled.corr(method = 'pearson').round(decimals = 2)\n",
    "\n",
    "\n",
    "# # creating a correlation heatmap\n",
    "sns.heatmap(data   = df_corr,\n",
    "            cmap   = 'Blues',\n",
    "            square = True,\n",
    "            annot  = True)\n",
    "\n",
    "\n",
    "# rendering the heatmap\n",
    "plt.show()"
   ]
  },
  {
   "cell_type": "markdown",
   "id": "a93667b3",
   "metadata": {},
   "source": [
    "<hr style=\"height:.9px;border:none;color:#333;background-color:#333;\" />\n",
    "Based on the correlation matrix, absolute values above 0.50 are comparatively rare where most variables have relatively low Pearson correlation coefficients among themselves. This implies that the dataset might be a good fit for Principal Component Analysis (PCA) because it includes a variety of independent data. A significant amount of the variance may be explained by a small number of principal components in PCA, allowing for dimensionality reduction without significantly sacrificing information.\n",
    "<hr style=\"height:.9px;border:none;color:#333;background-color:#333;\" />"
   ]
  },
  {
   "cell_type": "markdown",
   "id": "395e3e37",
   "metadata": {},
   "source": [
    "<hr style=\"height:.9px;border:none;color:#333;background-color:#333;\" /><br>\n",
    "<h1>Part IV  - Principal Component Analysis</h1>\n",
    "<hr style=\"height:.9px;border:none;color:#333;background-color:#333;\" /><br>"
   ]
  },
  {
   "cell_type": "markdown",
   "id": "8a8f6ae4",
   "metadata": {},
   "source": [
    "**a) Develop a PCA object with no limit to principal components and analyze its scree plot.**"
   ]
  },
  {
   "cell_type": "code",
   "execution_count": 692,
   "id": "09de1e47",
   "metadata": {},
   "outputs": [
    {
     "name": "stdout",
     "output_type": "stream",
     "text": [
      "Original shape: (2297, 8)\n",
      "PCA shape     : (2297, 8)\n"
     ]
    }
   ],
   "source": [
    "# INSTANTIATING a PCA object with no limit to principal components\n",
    "pca = PCA(n_components = None,\n",
    "          random_state = 702)\n",
    "\n",
    "\n",
    "# FITTING and TRANSFORMING the scaled data\n",
    "df_pca = pca.fit_transform(metrics_scaled)\n",
    "\n",
    "\n",
    "# comparing dimensions of each DataFrame\n",
    "print(\"Original shape:\", metrics_scaled.shape)\n",
    "print(\"PCA shape     :\", df_pca.shape)"
   ]
  },
  {
   "cell_type": "markdown",
   "id": "8715688b",
   "metadata": {},
   "source": [
    "**print out each explained variance ratio.**"
   ]
  },
  {
   "cell_type": "code",
   "execution_count": 693,
   "id": "3dc6b218",
   "metadata": {},
   "outputs": [
    {
     "name": "stdout",
     "output_type": "stream",
     "text": [
      "PC 1: 0.412\n",
      "PC 2: 0.133\n",
      "PC 3: 0.116\n",
      "PC 4: 0.097\n",
      "PC 5: 0.091\n",
      "PC 6: 0.082\n",
      "PC 7: 0.049\n",
      "PC 8: 0.019\n"
     ]
    }
   ],
   "source": [
    "# component number counter\n",
    "component_number = 0\n",
    "\n",
    "\n",
    "# looping over each principal component\n",
    "for variance in pca.explained_variance_ratio_:\n",
    "    component_number += 1\n",
    "    print(f\"PC {component_number}: {variance.round(3)}\")"
   ]
  },
  {
   "cell_type": "code",
   "execution_count": 694,
   "id": "9f420382",
   "metadata": {},
   "outputs": [
    {
     "name": "stdout",
     "output_type": "stream",
     "text": [
      "1.0\n"
     ]
    }
   ],
   "source": [
    "# printing the sum of all explained variance ratios\n",
    "print(pca.explained_variance_ratio_.sum(axis = 0))"
   ]
  },
  {
   "cell_type": "markdown",
   "id": "cdfca602",
   "metadata": {},
   "source": [
    "**b) Develop PCA and scree plot**"
   ]
  },
  {
   "cell_type": "code",
   "execution_count": 726,
   "id": "ecd3692c",
   "metadata": {},
   "outputs": [
    {
     "data": {
      "image/png": "[encoded data removed]",
      "text/plain": [
       "<Figure size 1000x800 with 1 Axes>"
      ]
     },
     "metadata": {},
     "output_type": "display_data"
    }
   ],
   "source": [
    "# # # calling the scree_plot function\n",
    "scree_plot(pca_object = pca)\n",
    "# calling the scree_plot function\n",
    "#scree_plot(pca_object=pca, cut_off_line=4)"
   ]
  },
  {
   "cell_type": "markdown",
   "id": "4bd275f6",
   "metadata": {},
   "source": [
    "**Plotting the scree plot with a cutoff line**"
   ]
  },
  {
   "cell_type": "code",
   "execution_count": 724,
   "id": "a3fb4022",
   "metadata": {},
   "outputs": [
    {
     "data": {
      "image/png": "[encoded data removed]",
      "text/plain": [
       "<Figure size 1000x600 with 1 Axes>"
      ]
     },
     "metadata": {},
     "output_type": "display_data"
    }
   ],
   "source": [
    "# Plotting the scree plot with a cutoff line\n",
    "plt.figure(figsize=(10, 6))\n",
    "plt.plot(range(1, len(pca.explained_variance_ratio_) + 1), pca.explained_variance_ratio_, marker='o', linestyle='--')\n",
    "plt.title('Scree Plot')\n",
    "plt.xlabel('Number of Components')\n",
    "plt.ylabel('Variance Explained')\n",
    "plt.axvline(x=5, color='r', linestyle='--')  # Cutoff at 3 components based on observation\n",
    "plt.xticks(np.arange(1, len(pca.explained_variance_ratio_) + 1, 1))\n",
    "plt.show()\n"
   ]
  },
  {
   "cell_type": "markdown",
   "id": "068798b1",
   "metadata": {},
   "source": [
    "<hr style=\"height:.9px;border:none;color:#333;background-color:#333;\" />\n",
    "\n",
    "**Selecting first 5 pca for analysis**\n",
    "\n",
    "- **Elbow Method** : The scree plot visually supports this decision. There's a noticeable elbow around the fifth component, after which the variance explained by each subsequent component drops more slowly and levels off. This indicates that additional components beyond the fifth would contribute less to the explanation of data variability.\n",
    "\n",
    "- **Cumulative Variance:** A common rule of thumb is to retain enough components to explain at least 80% of the variance in a dataset.. Since the first five components exceed this threshold, you're within a commonly accepted range for the amount of variance to capture in PCA. The first principal component accounts for substantially more variance than the others, with just over 41% of the total variance.\n",
    "\n",
    "<hr style=\"height:.9px;border:none;color:#333;background-color:#333;\" />"
   ]
  },
  {
   "cell_type": "markdown",
   "id": "bc8c47c2",
   "metadata": {},
   "source": [
    "**c) Run PCA again, limiting the number of components based on the scree plot.**\n"
   ]
  },
  {
   "cell_type": "code",
   "execution_count": 697,
   "id": "6805e5f1",
   "metadata": {},
   "outputs": [],
   "source": [
    "# INSTANTIATING a new model using the first three principal components\n",
    "pca_5 = PCA(n_components = 5,\n",
    "            random_state = 702)\n",
    "\n",
    "\n",
    "# FITTING and TRANSFORMING the metrics_scaled\n",
    "df_pca_5 = pca_5.fit_transform(metrics_scaled )"
   ]
  },
  {
   "cell_type": "markdown",
   "id": "83103855",
   "metadata": {},
   "source": [
    "**d) Present the factor loadings for the retained principal components**"
   ]
  },
  {
   "cell_type": "code",
   "execution_count": 698,
   "id": "a85aab51",
   "metadata": {},
   "outputs": [
    {
     "data": {
      "image/png": "[encoded data removed]",
      "text/plain": [
       "<Figure size 1000x400 with 2 Axes>"
      ]
     },
     "metadata": {},
     "output_type": "display_data"
    }
   ],
   "source": [
    "# setting plot size\n",
    "fig, ax = plt.subplots(figsize=(10, 4))  # Adjust width and height as needed\n",
    "\n",
    "# developing a PC to feature heatmap\n",
    "sns.heatmap(pca_5.components_, \n",
    "            cmap = 'coolwarm',\n",
    "            annot = True,\n",
    "            linewidths = 0.1,\n",
    "            linecolor = 'black')\n",
    "\n",
    "# setting more plot options\n",
    "plt.yticks([0, 1, 2,3,4], [\"PC 1\", \"PC 2\", \"PC 3\",\"PC 4\", \"PC 5\"], va='center')  # Adjust for vertical alignment\n",
    "plt.xticks(range(0, metrics_scaled.shape[1]),  \n",
    "           metrics_scaled.columns, \n",
    "           rotation=45,  # Adjust rotation for better fit\n",
    "           ha='right')  # Adjust horizontal alignment as needed\n",
    "\n",
    "plt.xlabel(\"Feature\")\n",
    "plt.ylabel(\"Principal Component\")\n",
    "\n",
    "plt.tight_layout()  # Adjust layout for better fit and to prevent overlap\n",
    "# displaying the plot\n",
    "plt.show()\n"
   ]
  },
  {
   "cell_type": "code",
   "execution_count": 699,
   "id": "0a59f80a",
   "metadata": {},
   "outputs": [
    {
     "name": "stdout",
     "output_type": "stream",
     "text": [
      "\n",
      "MAX Components Factor Loadings\n",
      "------------------------------\n",
      "                 0     1     2     3     4     5     6     7\n",
      "num_comments  0.38  0.33 -0.04 -0.01 -0.55 -0.21  0.62  0.10\n",
      "num_shares    0.48  0.03 -0.15  0.11 -0.22 -0.19 -0.47 -0.65\n",
      "num_likes     0.16 -0.57  0.67 -0.37 -0.27 -0.05 -0.02 -0.01\n",
      "num_loves     0.50 -0.07 -0.13  0.10  0.02 -0.13 -0.41  0.73\n",
      "num_wows      0.30 -0.49  0.00  0.65  0.26  0.14  0.38 -0.11\n",
      "num_hahas     0.35  0.06 -0.16 -0.34  0.01  0.85  0.04 -0.04\n",
      "num_sads      0.16  0.57  0.70  0.28  0.23  0.14 -0.10 -0.02\n",
      "num_angrys    0.34  0.05 -0.04 -0.47  0.67 -0.36  0.25 -0.11\n",
      "\n",
      "\n",
      "5 Components Factor Loadings\n",
      "------------------------------\n",
      "                 0     1     2     3     4\n",
      "num_comments  0.38  0.33 -0.04 -0.01 -0.55\n",
      "num_shares    0.48  0.03 -0.15  0.11 -0.22\n",
      "num_likes     0.16 -0.57  0.67 -0.37 -0.27\n",
      "num_loves     0.50 -0.07 -0.13  0.10  0.02\n",
      "num_wows      0.30 -0.49  0.00  0.65  0.26\n",
      "num_hahas     0.35  0.06 -0.16 -0.34  0.01\n",
      "num_sads      0.16  0.57  0.70  0.28  0.23\n",
      "num_angrys    0.34  0.05 -0.04 -0.47  0.67\n",
      "\n"
     ]
    }
   ],
   "source": [
    "####################\n",
    "### Max PC Model ###\n",
    "####################\n",
    "# transposing pca components (pc = MAX)\n",
    "factor_loadings = pd.DataFrame(np.transpose(pca.components_))\n",
    "\n",
    "\n",
    "# naming rows as original features\n",
    "factor_loadings = factor_loadings.set_index(metrics_scaled.columns)\n",
    "\n",
    "\n",
    "##################\n",
    "### 3 PC Model ###\n",
    "##################\n",
    "# transposing pca components (pc = 3)\n",
    "factor_loadings_5 = pd.DataFrame(np.transpose(pca_5.components_))\n",
    "\n",
    "\n",
    "# naming rows as original features\n",
    "factor_loadings_5 = factor_loadings_3.set_index(metrics_scaled.columns)\n",
    "\n",
    "\n",
    "# checking the results\n",
    "print(f\"\"\"\n",
    "MAX Components Factor Loadings\n",
    "------------------------------\n",
    "{factor_loadings.round(2)}\n",
    "\n",
    "\n",
    "5 Components Factor Loadings\n",
    "------------------------------\n",
    "{factor_loadings_5.round(2)}\n",
    "\"\"\")"
   ]
  },
  {
   "cell_type": "markdown",
   "id": "de14d788",
   "metadata": {},
   "source": [
    "**e) Rename each principal component.**"
   ]
  },
  {
   "cell_type": "code",
   "execution_count": 700,
   "id": "2250f817",
   "metadata": {},
   "outputs": [
    {
     "data": {
      "text/html": [
       "<div>\n",
       "<style scoped>\n",
       "    .dataframe tbody tr th:only-of-type {\n",
       "        vertical-align: middle;\n",
       "    }\n",
       "\n",
       "    .dataframe tbody tr th {\n",
       "        vertical-align: top;\n",
       "    }\n",
       "\n",
       "    .dataframe thead th {\n",
       "        text-align: right;\n",
       "    }\n",
       "</style>\n",
       "<table border=\"1\" class=\"dataframe\">\n",
       "  <thead>\n",
       "    <tr style=\"text-align: right;\">\n",
       "      <th></th>\n",
       "      <th>Active Positive Engagement</th>\n",
       "      <th>Emotional Diversity</th>\n",
       "      <th>Sympathetic Engagement</th>\n",
       "      <th>Controversy</th>\n",
       "      <th>Instinctual Reactions</th>\n",
       "    </tr>\n",
       "  </thead>\n",
       "  <tbody>\n",
       "    <tr>\n",
       "      <th>num_comments</th>\n",
       "      <td>0.38</td>\n",
       "      <td>0.33</td>\n",
       "      <td>-0.04</td>\n",
       "      <td>-0.01</td>\n",
       "      <td>-0.55</td>\n",
       "    </tr>\n",
       "    <tr>\n",
       "      <th>num_shares</th>\n",
       "      <td>0.48</td>\n",
       "      <td>0.03</td>\n",
       "      <td>-0.15</td>\n",
       "      <td>0.11</td>\n",
       "      <td>-0.22</td>\n",
       "    </tr>\n",
       "    <tr>\n",
       "      <th>num_likes</th>\n",
       "      <td>0.16</td>\n",
       "      <td>-0.57</td>\n",
       "      <td>0.67</td>\n",
       "      <td>-0.37</td>\n",
       "      <td>-0.27</td>\n",
       "    </tr>\n",
       "    <tr>\n",
       "      <th>num_loves</th>\n",
       "      <td>0.50</td>\n",
       "      <td>-0.07</td>\n",
       "      <td>-0.13</td>\n",
       "      <td>0.10</td>\n",
       "      <td>0.02</td>\n",
       "    </tr>\n",
       "    <tr>\n",
       "      <th>num_wows</th>\n",
       "      <td>0.30</td>\n",
       "      <td>-0.49</td>\n",
       "      <td>0.00</td>\n",
       "      <td>0.65</td>\n",
       "      <td>0.26</td>\n",
       "    </tr>\n",
       "    <tr>\n",
       "      <th>num_hahas</th>\n",
       "      <td>0.35</td>\n",
       "      <td>0.06</td>\n",
       "      <td>-0.16</td>\n",
       "      <td>-0.34</td>\n",
       "      <td>0.01</td>\n",
       "    </tr>\n",
       "    <tr>\n",
       "      <th>num_sads</th>\n",
       "      <td>0.16</td>\n",
       "      <td>0.57</td>\n",
       "      <td>0.70</td>\n",
       "      <td>0.28</td>\n",
       "      <td>0.23</td>\n",
       "    </tr>\n",
       "    <tr>\n",
       "      <th>num_angrys</th>\n",
       "      <td>0.34</td>\n",
       "      <td>0.05</td>\n",
       "      <td>-0.04</td>\n",
       "      <td>-0.47</td>\n",
       "      <td>0.67</td>\n",
       "    </tr>\n",
       "  </tbody>\n",
       "</table>\n",
       "</div>"
      ],
      "text/plain": [
       "              Active Positive Engagement  Emotional Diversity  Sympathetic Engagement  Controversy  Instinctual Reactions\n",
       "num_comments                        0.38                 0.33                   -0.04        -0.01                  -0.55\n",
       "num_shares                          0.48                 0.03                   -0.15         0.11                  -0.22\n",
       "num_likes                           0.16                -0.57                    0.67        -0.37                  -0.27\n",
       "num_loves                           0.50                -0.07                   -0.13         0.10                   0.02\n",
       "num_wows                            0.30                -0.49                    0.00         0.65                   0.26\n",
       "num_hahas                           0.35                 0.06                   -0.16        -0.34                   0.01\n",
       "num_sads                            0.16                 0.57                    0.70         0.28                   0.23\n",
       "num_angrys                          0.34                 0.05                   -0.04        -0.47                   0.67"
      ]
     },
     "execution_count": 700,
     "metadata": {},
     "output_type": "execute_result"
    }
   ],
   "source": [
    "# naming each principal component\n",
    "factor_loadings_5.columns = [\"Active Positive Engagement\",\n",
    "                            \"Emotional Diversity\"    ,\n",
    "                             \"Sympathetic Engagement\",\n",
    "                             \"Controversy\",\n",
    "                             \"Instinctual Reactions\"]\n",
    "\n",
    "\n",
    "# checking the result\n",
    "factor_loadings_5.round(decimals = 2)"
   ]
  },
  {
   "cell_type": "code",
   "execution_count": 701,
   "id": "0a691f1d",
   "metadata": {},
   "outputs": [
    {
     "data": {
      "text/html": [
       "<div>\n",
       "<style scoped>\n",
       "    .dataframe tbody tr th:only-of-type {\n",
       "        vertical-align: middle;\n",
       "    }\n",
       "\n",
       "    .dataframe tbody tr th {\n",
       "        vertical-align: top;\n",
       "    }\n",
       "\n",
       "    .dataframe thead th {\n",
       "        text-align: right;\n",
       "    }\n",
       "</style>\n",
       "<table border=\"1\" class=\"dataframe\">\n",
       "  <thead>\n",
       "    <tr style=\"text-align: right;\">\n",
       "      <th></th>\n",
       "      <th>Active Positive Engagement</th>\n",
       "      <th>Emotional Diversity</th>\n",
       "      <th>Sympathetic Engagement</th>\n",
       "      <th>Controversy</th>\n",
       "      <th>Instinctual Reactions</th>\n",
       "    </tr>\n",
       "  </thead>\n",
       "  <tbody>\n",
       "    <tr>\n",
       "      <th>0</th>\n",
       "      <td>2.149506</td>\n",
       "      <td>-0.041732</td>\n",
       "      <td>0.076829</td>\n",
       "      <td>0.477796</td>\n",
       "      <td>-0.669884</td>\n",
       "    </tr>\n",
       "    <tr>\n",
       "      <th>1</th>\n",
       "      <td>-0.509736</td>\n",
       "      <td>-0.101513</td>\n",
       "      <td>-0.017248</td>\n",
       "      <td>-0.005416</td>\n",
       "      <td>0.026406</td>\n",
       "    </tr>\n",
       "    <tr>\n",
       "      <th>2</th>\n",
       "      <td>3.269001</td>\n",
       "      <td>-0.340849</td>\n",
       "      <td>-0.342700</td>\n",
       "      <td>-2.116906</td>\n",
       "      <td>3.282380</td>\n",
       "    </tr>\n",
       "    <tr>\n",
       "      <th>3</th>\n",
       "      <td>-0.588948</td>\n",
       "      <td>-0.040418</td>\n",
       "      <td>-0.055416</td>\n",
       "      <td>0.010399</td>\n",
       "      <td>0.037315</td>\n",
       "    </tr>\n",
       "    <tr>\n",
       "      <th>4</th>\n",
       "      <td>-0.436563</td>\n",
       "      <td>-0.296430</td>\n",
       "      <td>0.008802</td>\n",
       "      <td>0.233194</td>\n",
       "      <td>0.120287</td>\n",
       "    </tr>\n",
       "  </tbody>\n",
       "</table>\n",
       "</div>"
      ],
      "text/plain": [
       "   Active Positive Engagement  Emotional Diversity  Sympathetic Engagement  Controversy  Instinctual Reactions\n",
       "0                    2.149506            -0.041732                0.076829     0.477796              -0.669884\n",
       "1                   -0.509736            -0.101513               -0.017248    -0.005416               0.026406\n",
       "2                    3.269001            -0.340849               -0.342700    -2.116906               3.282380\n",
       "3                   -0.588948            -0.040418               -0.055416     0.010399               0.037315\n",
       "4                   -0.436563            -0.296430                0.008802     0.233194               0.120287"
      ]
     },
     "execution_count": 701,
     "metadata": {},
     "output_type": "execute_result"
    }
   ],
   "source": [
    "# analyzing factor strengths per metric \n",
    "factor_loadings1 = pca_5.transform(metrics_scaled)\n",
    "\n",
    "\n",
    "# converting to a DataFrame\n",
    "factor_loadings_df1 = pd.DataFrame(factor_loadings1)\n",
    "\n",
    "\n",
    "# renaming columns\n",
    "factor_loadings_df1.columns = factor_loadings_5.columns\n",
    "\n",
    "\n",
    "# checking the results\n",
    "factor_loadings_df1.head(n = 5)"
   ]
  },
  {
   "cell_type": "markdown",
   "id": "9c309322",
   "metadata": {},
   "source": [
    "<hr style=\"height:.9px;border:none;color:#333;background-color:#333;\" />\n",
    "<h2>Analysis Questions 3</h2><br>\n",
    "Interpret each of your retained principal components. Remember to interpret both sides of each principal component. (minimum 5 sentences per principal component)\n",
    "\n",
    "\n",
    "\n",
    "<h5>Answer</h5>\n",
    "\n",
    "**1)Active Positive Engagement (PC1):** This component, with significant positive loadings across all interaction types, seems to capture the overall level of user engagement with the content. The positive association with 'num_comments', 'num_shares', 'num_likes', etc., suggests that high scores on this component are characteristic of posts that have widely engaging content, likely to generate conversations and sharing among users. Negative contributions are minimal, underscoring its character as a measure of positive engagement. This is the component where most features contribute equally, suggesting that when users engage, they tend to do so across multiple interaction types.\n",
    "\n",
    "**2)Emotional Diversity (PC2):** This component contrasts the sentiment of reactions, with high negative loadings for 'num_likes' and positive for 'num_sads'. It captures the divergence in user sentiment, differentiating content that evokes positive emotions from that which elicits sadness. A high score on this component might indicate content that is more somber or serious in nature, triggering a sad reaction, while a low score would be associated with content that is more universally liked and perhaps less emotionally complex.\n",
    "\n",
    "**3)Sympathetic Engagement (PC3):** Dominated by 'num_likes' and 'num_sads', this component seems to reflect a spectrum of sympathetic engagement, capturing the capacity of content to elicit a strong emotional response, whether of joy or sorrow. Posts scoring high on this component may be those that deeply resonate with users, prompting them to express their emotions through likes or sad reactions. It could represent content that is emotionally charged, be it positively or negatively.\n",
    "\n",
    "**4)Controversy (PC4):** With the highest loading for 'num_wows', this component might capture content that surprises or shocks, which could be polarizing or controversial. Posts with high values on this component are likely those that attract attention and might be unexpected or startling, as indicated by a significant number of 'wow' reactions. The negative loading for 'num_hahas' suggests a divergence from content that is simply humorous or entertaining.\n",
    "\n",
    "**5)\"Instinctual Reactions(PC5):** the principal component is characterized by a high positive loading for 'num_angrys', indicating that it significantly correlates with content that evokes anger. Conversely, the negative loadings for 'num_comments' and 'num_likes' suggest that this component is inversely related to content that promotes engagement through conversation (comments) or positive reactions (likes).\n",
    "<hr style=\"height:.9px;border:none;color:#333;background-color:#333;\" />"
   ]
  },
  {
   "cell_type": "markdown",
   "id": "ee55a6b7",
   "metadata": {},
   "source": [
    "<br><hr style=\"height:.9px;border:none;color:#333;background-color:#333;\" /><br>\n",
    "\n",
    "<h1>Part V: K-means clustering</h1><br>\n",
    "<br><hr style=\"height:.9px;border:none;color:#333;background-color:#333;\" /><br>"
   ]
  },
  {
   "cell_type": "code",
   "execution_count": 702,
   "id": "4530aef4",
   "metadata": {},
   "outputs": [
    {
     "name": "stderr",
     "output_type": "stream",
     "text": [
      "C:\\Users\\racha\\anaconda3\\Lib\\site-packages\\numpy\\core\\fromnumeric.py:3785: FutureWarning: The behavior of DataFrame.var with axis=None is deprecated, in a future version this will reduce over both axes and return a scalar. To retain the old behavior, pass axis=0 (or do not pass axis)\n",
      "  return var(axis=axis, dtype=dtype, out=out, ddof=ddof, **kwargs)\n"
     ]
    },
    {
     "data": {
      "text/plain": [
       "Active Positive Engagement    3.297265\n",
       "Emotional Diversity           1.067377\n",
       "Sympathetic Engagement        0.930816\n",
       "Controversy                   0.778575\n",
       "Instinctual Reactions         0.728917\n",
       "dtype: float64"
      ]
     },
     "execution_count": 702,
     "metadata": {},
     "output_type": "execute_result"
    }
   ],
   "source": [
    "# checking variance amongst clusters\n",
    "np.var(factor_loadings_df1)"
   ]
  },
  {
   "cell_type": "markdown",
   "id": "534dd522",
   "metadata": {},
   "source": [
    "**a) Complete the code to prepare a scaled version of the factor loadings dataset.¶**"
   ]
  },
  {
   "cell_type": "code",
   "execution_count": 703,
   "id": "dc8d1578",
   "metadata": {},
   "outputs": [
    {
     "name": "stdout",
     "output_type": "stream",
     "text": [
      "Active Positive Engagement    3.297265\n",
      "Emotional Diversity           1.067377\n",
      "Sympathetic Engagement        0.930816\n",
      "Controversy                   0.778575\n",
      "Instinctual Reactions         0.728917\n",
      "dtype: float64 \n",
      "\n",
      "\n",
      "Active Positive Engagement    1.0\n",
      "Emotional Diversity           1.0\n",
      "Sympathetic Engagement        1.0\n",
      "Controversy                   1.0\n",
      "Instinctual Reactions         1.0\n",
      "dtype: float64\n"
     ]
    },
    {
     "name": "stderr",
     "output_type": "stream",
     "text": [
      "C:\\Users\\racha\\anaconda3\\Lib\\site-packages\\numpy\\core\\fromnumeric.py:3785: FutureWarning: The behavior of DataFrame.var with axis=None is deprecated, in a future version this will reduce over both axes and return a scalar. To retain the old behavior, pass axis=0 (or do not pass axis)\n",
      "  return var(axis=axis, dtype=dtype, out=out, ddof=ddof, **kwargs)\n"
     ]
    }
   ],
   "source": [
    "# applying the unsupervised_scaler function\n",
    "pca_rescaled = scaler(df = factor_loadings_df1)\n",
    "\n",
    "\n",
    "# checking pre- and post-scaling variance\n",
    "print(np.var(factor_loadings_df1), '\\n\\n')\n",
    "print(np.var(pca_rescaled))"
   ]
  },
  {
   "cell_type": "markdown",
   "id": "e7a4d0f1",
   "metadata": {},
   "source": [
    "<hr style=\"height:.9px;border:none;color:#333;background-color:#333;\" /><br>\n",
    "\n",
    "<h2>Agglomerative Clustering</h2><br>"
   ]
  },
  {
   "cell_type": "code",
   "execution_count": 704,
   "id": "ad844fc3",
   "metadata": {
    "scrolled": true
   },
   "outputs": [
    {
     "data": {
      "image/png": "[encoded data removed]",
      "text/plain": [
       "<Figure size 1200x1200 with 1 Axes>"
      ]
     },
     "metadata": {},
     "output_type": "display_data"
    }
   ],
   "source": [
    "# grouping data based on Ward distance\n",
    "\n",
    "standard_mergings_ward = linkage(y = pca_rescaled,\n",
    "                                 method = 'ward',\n",
    "                                 optimal_ordering = True)\n",
    "\n",
    "\n",
    "# setting plot size\n",
    "fig, ax = plt.subplots(figsize=(12, 12))\n",
    "\n",
    "# developing a dendrogram\n",
    "dendrogram(Z = standard_mergings_ward,\n",
    "           leaf_rotation  = 90       ,\n",
    "           leaf_font_size = 6        )\n",
    "\n",
    "\n",
    "# rendering the plot\n",
    "plt.show()\n"
   ]
  },
  {
   "cell_type": "markdown",
   "id": "1a9b06fa",
   "metadata": {},
   "source": [
    "<h2>Develop k-means clustering</h2><br>"
   ]
  },
  {
   "cell_type": "markdown",
   "id": "92d662f0",
   "metadata": {},
   "source": [
    "**a) k-Means object with clusters**"
   ]
  },
  {
   "cell_type": "code",
   "execution_count": 705,
   "id": "2f2392fc",
   "metadata": {},
   "outputs": [
    {
     "name": "stdout",
     "output_type": "stream",
     "text": [
      "Cluster\n",
      "2    2010\n",
      "0     213\n",
      "3      46\n",
      "1      22\n",
      "4       6\n",
      "Name: count, dtype: int64\n"
     ]
    }
   ],
   "source": [
    "# INSTANTIATING a k-Means object with clusters\n",
    "df_k_pca = KMeans(n_clusters   = 5 ,\n",
    "                         n_init       = 'auto',\n",
    "                         random_state = 702   )\n",
    "\n",
    "\n",
    "# fitting the object to the data\n",
    "df_k_pca.fit(pca_rescaled)\n",
    "\n",
    "\n",
    "# converting the clusters to a DataFrame\n",
    "df_kmeans_pca = pd.DataFrame({'Cluster': df_k_pca.labels_})\n",
    "\n",
    "\n",
    "# checking the results\n",
    "print(df_kmeans_pca.iloc[: , 0].value_counts())"
   ]
  },
  {
   "cell_type": "markdown",
   "id": "9f14c5ba",
   "metadata": {},
   "source": [
    "**b) Rename each principal component and display the centroids (mean values) for each cluster**"
   ]
  },
  {
   "cell_type": "code",
   "execution_count": 706,
   "id": "223f6e35",
   "metadata": {},
   "outputs": [
    {
     "data": {
      "text/html": [
       "<div>\n",
       "<style scoped>\n",
       "    .dataframe tbody tr th:only-of-type {\n",
       "        vertical-align: middle;\n",
       "    }\n",
       "\n",
       "    .dataframe tbody tr th {\n",
       "        vertical-align: top;\n",
       "    }\n",
       "\n",
       "    .dataframe thead th {\n",
       "        text-align: right;\n",
       "    }\n",
       "</style>\n",
       "<table border=\"1\" class=\"dataframe\">\n",
       "  <thead>\n",
       "    <tr style=\"text-align: right;\">\n",
       "      <th></th>\n",
       "      <th>Active Positive Engagement</th>\n",
       "      <th>Emotional Complexity</th>\n",
       "      <th>Sympathetic Engagement</th>\n",
       "      <th>Controversy</th>\n",
       "      <th>Instinctual Reactions</th>\n",
       "    </tr>\n",
       "  </thead>\n",
       "  <tbody>\n",
       "    <tr>\n",
       "      <th>0</th>\n",
       "      <td>1.35</td>\n",
       "      <td>0.23</td>\n",
       "      <td>-0.46</td>\n",
       "      <td>0.03</td>\n",
       "      <td>-0.27</td>\n",
       "    </tr>\n",
       "    <tr>\n",
       "      <th>1</th>\n",
       "      <td>5.29</td>\n",
       "      <td>-1.38</td>\n",
       "      <td>-0.76</td>\n",
       "      <td>-2.49</td>\n",
       "      <td>5.23</td>\n",
       "    </tr>\n",
       "    <tr>\n",
       "      <th>2</th>\n",
       "      <td>-0.28</td>\n",
       "      <td>-0.08</td>\n",
       "      <td>0.03</td>\n",
       "      <td>0.01</td>\n",
       "      <td>0.03</td>\n",
       "    </tr>\n",
       "    <tr>\n",
       "      <th>3</th>\n",
       "      <td>3.28</td>\n",
       "      <td>2.01</td>\n",
       "      <td>-0.23</td>\n",
       "      <td>0.06</td>\n",
       "      <td>-3.24</td>\n",
       "    </tr>\n",
       "    <tr>\n",
       "      <th>4</th>\n",
       "      <td>1.90</td>\n",
       "      <td>8.92</td>\n",
       "      <td>11.58</td>\n",
       "      <td>4.46</td>\n",
       "      <td>4.05</td>\n",
       "    </tr>\n",
       "  </tbody>\n",
       "</table>\n",
       "</div>"
      ],
      "text/plain": [
       "   Active Positive Engagement  Emotional Complexity  Sympathetic Engagement  Controversy  Instinctual Reactions\n",
       "0                        1.35                  0.23                   -0.46         0.03                  -0.27\n",
       "1                        5.29                 -1.38                   -0.76        -2.49                   5.23\n",
       "2                       -0.28                 -0.08                    0.03         0.01                   0.03\n",
       "3                        3.28                  2.01                   -0.23         0.06                  -3.24\n",
       "4                        1.90                  8.92                   11.58         4.46                   4.05"
      ]
     },
     "execution_count": 706,
     "metadata": {},
     "output_type": "execute_result"
    }
   ],
   "source": [
    "# storing cluster centers\n",
    "centroids_pca = df_k_pca.cluster_centers_\n",
    "\n",
    "\n",
    "# converting cluster centers into a DataFrame\n",
    "centroids_pca_df = pd.DataFrame(centroids_pca).round(decimals = 2)\n",
    "\n",
    "\n",
    "# renaming principal components\n",
    "centroids_pca_df.columns = [\"Active Positive Engagement\",\n",
    "                            \"Emotional Complexity\"    ,\n",
    "                             \"Sympathetic Engagement\", \n",
    "                              \"Controversy\",\n",
    "                              \"Instinctual Reactions\"]\n",
    "\n",
    "\n",
    "# checking results (clusters = rows, pc = columns)\n",
    "centroids_pca_df"
   ]
  },
  {
   "cell_type": "markdown",
   "id": "4ced1004",
   "metadata": {},
   "source": [
    "**c) concatenating cluster memberships with principal components**"
   ]
  },
  {
   "cell_type": "code",
   "execution_count": 707,
   "id": "97ba61de",
   "metadata": {},
   "outputs": [
    {
     "data": {
      "text/html": [
       "<div>\n",
       "<style scoped>\n",
       "    .dataframe tbody tr th:only-of-type {\n",
       "        vertical-align: middle;\n",
       "    }\n",
       "\n",
       "    .dataframe tbody tr th {\n",
       "        vertical-align: top;\n",
       "    }\n",
       "\n",
       "    .dataframe thead th {\n",
       "        text-align: right;\n",
       "    }\n",
       "</style>\n",
       "<table border=\"1\" class=\"dataframe\">\n",
       "  <thead>\n",
       "    <tr style=\"text-align: right;\">\n",
       "      <th></th>\n",
       "      <th>status_id</th>\n",
       "      <th>status_type</th>\n",
       "      <th>time_published</th>\n",
       "      <th>month</th>\n",
       "      <th>year</th>\n",
       "      <th>hour</th>\n",
       "      <th>day</th>\n",
       "      <th>is_video</th>\n",
       "      <th>Cluster</th>\n",
       "      <th>Balanced Engagers</th>\n",
       "      <th>Reaction Provokers</th>\n",
       "      <th>Quiet Observers</th>\n",
       "      <th>Emotionally Charged</th>\n",
       "      <th>Highly Engaging</th>\n",
       "    </tr>\n",
       "  </thead>\n",
       "  <tbody>\n",
       "    <tr>\n",
       "      <th>0</th>\n",
       "      <td>1</td>\n",
       "      <td>video</td>\n",
       "      <td>2018-04-22 06:00:00</td>\n",
       "      <td>4</td>\n",
       "      <td>2018</td>\n",
       "      <td>6</td>\n",
       "      <td>22</td>\n",
       "      <td>1</td>\n",
       "      <td>0</td>\n",
       "      <td>2.15</td>\n",
       "      <td>-0.04</td>\n",
       "      <td>0.08</td>\n",
       "      <td>0.48</td>\n",
       "      <td>-0.67</td>\n",
       "    </tr>\n",
       "    <tr>\n",
       "      <th>1</th>\n",
       "      <td>2</td>\n",
       "      <td>photo</td>\n",
       "      <td>2018-04-18 03:22:00</td>\n",
       "      <td>4</td>\n",
       "      <td>2018</td>\n",
       "      <td>3</td>\n",
       "      <td>18</td>\n",
       "      <td>0</td>\n",
       "      <td>2</td>\n",
       "      <td>-0.51</td>\n",
       "      <td>-0.10</td>\n",
       "      <td>-0.02</td>\n",
       "      <td>-0.01</td>\n",
       "      <td>0.03</td>\n",
       "    </tr>\n",
       "    <tr>\n",
       "      <th>2</th>\n",
       "      <td>3</td>\n",
       "      <td>video</td>\n",
       "      <td>2018-04-18 00:24:00</td>\n",
       "      <td>4</td>\n",
       "      <td>2018</td>\n",
       "      <td>0</td>\n",
       "      <td>18</td>\n",
       "      <td>1</td>\n",
       "      <td>1</td>\n",
       "      <td>3.27</td>\n",
       "      <td>-0.34</td>\n",
       "      <td>-0.34</td>\n",
       "      <td>-2.12</td>\n",
       "      <td>3.28</td>\n",
       "    </tr>\n",
       "    <tr>\n",
       "      <th>3</th>\n",
       "      <td>4</td>\n",
       "      <td>photo</td>\n",
       "      <td>2018-04-11 04:53:00</td>\n",
       "      <td>4</td>\n",
       "      <td>2018</td>\n",
       "      <td>4</td>\n",
       "      <td>11</td>\n",
       "      <td>0</td>\n",
       "      <td>2</td>\n",
       "      <td>-0.59</td>\n",
       "      <td>-0.04</td>\n",
       "      <td>-0.06</td>\n",
       "      <td>0.01</td>\n",
       "      <td>0.04</td>\n",
       "    </tr>\n",
       "    <tr>\n",
       "      <th>4</th>\n",
       "      <td>5</td>\n",
       "      <td>photo</td>\n",
       "      <td>2018-04-09 02:06:00</td>\n",
       "      <td>4</td>\n",
       "      <td>2018</td>\n",
       "      <td>2</td>\n",
       "      <td>9</td>\n",
       "      <td>0</td>\n",
       "      <td>2</td>\n",
       "      <td>-0.44</td>\n",
       "      <td>-0.30</td>\n",
       "      <td>0.01</td>\n",
       "      <td>0.23</td>\n",
       "      <td>0.12</td>\n",
       "    </tr>\n",
       "  </tbody>\n",
       "</table>\n",
       "</div>"
      ],
      "text/plain": [
       "   status_id status_type      time_published  month  year  hour  day  is_video  Cluster  Balanced Engagers  Reaction Provokers  Quiet Observers  Emotionally Charged  Highly Engaging\n",
       "0          1       video 2018-04-22 06:00:00      4  2018     6   22         1        0               2.15               -0.04             0.08                 0.48            -0.67\n",
       "1          2       photo 2018-04-18 03:22:00      4  2018     3   18         0        2              -0.51               -0.10            -0.02                -0.01             0.03\n",
       "2          3       video 2018-04-18 00:24:00      4  2018     0   18         1        1               3.27               -0.34            -0.34                -2.12             3.28\n",
       "3          4       photo 2018-04-11 04:53:00      4  2018     4   11         0        2              -0.59               -0.04            -0.06                 0.01             0.04\n",
       "4          5       photo 2018-04-09 02:06:00      4  2018     2    9         0        2              -0.44               -0.30             0.01                 0.23             0.12"
      ]
     },
     "execution_count": 707,
     "metadata": {},
     "output_type": "execute_result"
    }
   ],
   "source": [
    "# concatenating cluster memberships with principal components\n",
    "clst_pca_df = pd.concat([df_kmeans_pca,\n",
    "                         factor_loadings_df],\n",
    "                         axis = 1)\n",
    "\n",
    "\n",
    "\n",
    "\n",
    "# concatenating demographic information with pca-clusters\n",
    "final_df = pd.concat([df.loc[ : , ['status_id','status_type','time_published',\n",
    "                           'month' ,'year', 'hour','day','is_video' ]],\n",
    "                      clst_pca_df.round(decimals = 2)],\n",
    "                      axis = 1)\n",
    "\n",
    "\n",
    "# renaming cluster\n",
    "final_df.columns = ['status_id','status_type','time_published',\n",
    "                 'month' ,'year', 'hour','day','is_video','Cluster' ,\n",
    "                   \"Balanced Engagers\",\"Reaction Provokers\",\"Quiet Observers\",\"Emotionally Charged\",\"Highly Engaging\" ]\n",
    "\n",
    "\n",
    "# checking the results\n",
    "final_df.head(n = 5)"
   ]
  },
  {
   "cell_type": "markdown",
   "id": "0f5d70bf",
   "metadata": {},
   "source": [
    "**d) labels to categorical variables.**"
   ]
  },
  {
   "cell_type": "code",
   "execution_count": 708,
   "id": "ebb6b30f",
   "metadata": {},
   "outputs": [
    {
     "data": {
      "text/html": [
       "<div>\n",
       "<style scoped>\n",
       "    .dataframe tbody tr th:only-of-type {\n",
       "        vertical-align: middle;\n",
       "    }\n",
       "\n",
       "    .dataframe tbody tr th {\n",
       "        vertical-align: top;\n",
       "    }\n",
       "\n",
       "    .dataframe thead th {\n",
       "        text-align: right;\n",
       "    }\n",
       "</style>\n",
       "<table border=\"1\" class=\"dataframe\">\n",
       "  <thead>\n",
       "    <tr style=\"text-align: right;\">\n",
       "      <th></th>\n",
       "      <th>status_id</th>\n",
       "      <th>status_type</th>\n",
       "      <th>time_published</th>\n",
       "      <th>month</th>\n",
       "      <th>year</th>\n",
       "      <th>hour</th>\n",
       "      <th>day</th>\n",
       "      <th>is_video</th>\n",
       "      <th>Cluster</th>\n",
       "      <th>Balanced Engagers</th>\n",
       "      <th>Reaction Provokers</th>\n",
       "      <th>Quiet Observers</th>\n",
       "      <th>Emotionally Charged</th>\n",
       "      <th>Highly Engaging</th>\n",
       "    </tr>\n",
       "  </thead>\n",
       "  <tbody>\n",
       "    <tr>\n",
       "      <th>0</th>\n",
       "      <td>1</td>\n",
       "      <td>video</td>\n",
       "      <td>2018-04-22 06:00:00</td>\n",
       "      <td>4</td>\n",
       "      <td>2018</td>\n",
       "      <td>6</td>\n",
       "      <td>22</td>\n",
       "      <td>video</td>\n",
       "      <td>1</td>\n",
       "      <td>2.15</td>\n",
       "      <td>-0.04</td>\n",
       "      <td>0.08</td>\n",
       "      <td>0.48</td>\n",
       "      <td>-0.67</td>\n",
       "    </tr>\n",
       "    <tr>\n",
       "      <th>1</th>\n",
       "      <td>2</td>\n",
       "      <td>photo</td>\n",
       "      <td>2018-04-18 03:22:00</td>\n",
       "      <td>4</td>\n",
       "      <td>2018</td>\n",
       "      <td>3</td>\n",
       "      <td>18</td>\n",
       "      <td>not_video</td>\n",
       "      <td>3</td>\n",
       "      <td>-0.51</td>\n",
       "      <td>-0.10</td>\n",
       "      <td>-0.02</td>\n",
       "      <td>-0.01</td>\n",
       "      <td>0.03</td>\n",
       "    </tr>\n",
       "    <tr>\n",
       "      <th>2</th>\n",
       "      <td>3</td>\n",
       "      <td>video</td>\n",
       "      <td>2018-04-18 00:24:00</td>\n",
       "      <td>4</td>\n",
       "      <td>2018</td>\n",
       "      <td>0</td>\n",
       "      <td>18</td>\n",
       "      <td>video</td>\n",
       "      <td>2</td>\n",
       "      <td>3.27</td>\n",
       "      <td>-0.34</td>\n",
       "      <td>-0.34</td>\n",
       "      <td>-2.12</td>\n",
       "      <td>3.28</td>\n",
       "    </tr>\n",
       "    <tr>\n",
       "      <th>3</th>\n",
       "      <td>4</td>\n",
       "      <td>photo</td>\n",
       "      <td>2018-04-11 04:53:00</td>\n",
       "      <td>4</td>\n",
       "      <td>2018</td>\n",
       "      <td>4</td>\n",
       "      <td>11</td>\n",
       "      <td>not_video</td>\n",
       "      <td>3</td>\n",
       "      <td>-0.59</td>\n",
       "      <td>-0.04</td>\n",
       "      <td>-0.06</td>\n",
       "      <td>0.01</td>\n",
       "      <td>0.04</td>\n",
       "    </tr>\n",
       "    <tr>\n",
       "      <th>4</th>\n",
       "      <td>5</td>\n",
       "      <td>photo</td>\n",
       "      <td>2018-04-09 02:06:00</td>\n",
       "      <td>4</td>\n",
       "      <td>2018</td>\n",
       "      <td>2</td>\n",
       "      <td>9</td>\n",
       "      <td>not_video</td>\n",
       "      <td>3</td>\n",
       "      <td>-0.44</td>\n",
       "      <td>-0.30</td>\n",
       "      <td>0.01</td>\n",
       "      <td>0.23</td>\n",
       "      <td>0.12</td>\n",
       "    </tr>\n",
       "  </tbody>\n",
       "</table>\n",
       "</div>"
      ],
      "text/plain": [
       "   status_id status_type      time_published  month  year  hour  day   is_video Cluster  Balanced Engagers  Reaction Provokers  Quiet Observers  Emotionally Charged  Highly Engaging\n",
       "0          1       video 2018-04-22 06:00:00      4  2018     6   22      video       1               2.15               -0.04             0.08                 0.48            -0.67\n",
       "1          2       photo 2018-04-18 03:22:00      4  2018     3   18  not_video       3              -0.51               -0.10            -0.02                -0.01             0.03\n",
       "2          3       video 2018-04-18 00:24:00      4  2018     0   18      video       2               3.27               -0.34            -0.34                -2.12             3.28\n",
       "3          4       photo 2018-04-11 04:53:00      4  2018     4   11  not_video       3              -0.59               -0.04            -0.06                 0.01             0.04\n",
       "4          5       photo 2018-04-09 02:06:00      4  2018     2    9  not_video       3              -0.44               -0.30             0.01                 0.23             0.12"
      ]
     },
     "execution_count": 708,
     "metadata": {},
     "output_type": "execute_result"
    }
   ],
   "source": [
    "# renaming column \n",
    "video_status = {1 : 'video',\n",
    "                0 : 'not_video'}\n",
    "\n",
    "\n",
    "final_df['is_video'].replace(video_status, inplace = True)\n",
    "\n",
    "# renaming cluster \n",
    "cluster_names = {0 : '1',\n",
    "                 1 : '2',\n",
    "                 2 : '3',\n",
    "                 3:  '4',\n",
    "                 4:  '5'}\n",
    "\n",
    "\n",
    "final_df['Cluster'].replace(cluster_names, inplace = True)\n",
    "\n",
    "\n",
    "# checking results\n",
    "final_df.head(n = 5)"
   ]
  },
  {
   "cell_type": "code",
   "execution_count": 709,
   "id": "62377ffd",
   "metadata": {},
   "outputs": [
    {
     "name": "stdout",
     "output_type": "stream",
     "text": [
      " -----------\n",
      "| Cluster 1 |\n",
      " -----------\n",
      "\n",
      "Proportion of Observations\n",
      "--------------------------\n",
      "0.09\n",
      "\n",
      "\n",
      "is_video\n",
      "-------\n",
      "is_video\n",
      "not_video    0.03\n",
      "video        0.97\n",
      "  \n",
      "  \n",
      "\n",
      "\n"
     ]
    }
   ],
   "source": [
    "# dynamic string with value counts for each demographic (cluster 1)\n",
    "print(f\"\"\"\\\n",
    " -----------\n",
    "| Cluster 1 |\n",
    " -----------\n",
    "\n",
    "Proportion of Observations\n",
    "--------------------------\n",
    "{round(len(final_df.loc[ : , \"Cluster\"][final_df.loc[ : , \"Cluster\"] == '1']) /\n",
    "       len(final_df), ndigits = 2)}\n",
    "\n",
    "\n",
    "is_video\n",
    "-------\n",
    "{final_df.loc[ : , \"is_video\"][ final_df.loc[ : , 'Cluster' ] == '1']\n",
    "\n",
    "         .value_counts(normalize = True)\n",
    "         .round(decimals = 2)\n",
    "         .sort_index().to_string(dtype = False, name = False)}\n",
    "  \n",
    "  \n",
    "\n",
    "\"\"\")"
   ]
  },
  {
   "cell_type": "code",
   "execution_count": 710,
   "id": "8f2f21a3",
   "metadata": {},
   "outputs": [
    {
     "name": "stdout",
     "output_type": "stream",
     "text": [
      " -----------\n",
      "| Cluster 2 |\n",
      " -----------\n",
      "\n",
      "Proportion of Observations\n",
      "--------------------------\n",
      "0.01\n",
      "\n",
      "is_video\n",
      "-------\n",
      "is_video\n",
      "not_video    0.18\n",
      "video        0.82\n",
      "  \n",
      "  \n",
      "\n",
      "\n"
     ]
    }
   ],
   "source": [
    "# dynamic string with value counts for each demographic (cluster 1)\n",
    "print(f\"\"\"\\\n",
    " -----------\n",
    "| Cluster 2 |\n",
    " -----------\n",
    "\n",
    "Proportion of Observations\n",
    "--------------------------\n",
    "{round(len(final_df.loc[ : , \"Cluster\"][final_df.loc[ : , \"Cluster\"] == '2']) /\n",
    "       len(final_df), ndigits = 2)}\n",
    "\n",
    "is_video\n",
    "-------\n",
    "{final_df.loc[ : , \"is_video\"][ final_df.loc[ : , 'Cluster' ] == '2']\n",
    "\n",
    "         .value_counts(normalize = True)\n",
    "         .round(decimals = 2)\n",
    "         .sort_index().to_string(dtype = False, name = False)}\n",
    "  \n",
    "  \n",
    "\n",
    "\"\"\")"
   ]
  },
  {
   "cell_type": "code",
   "execution_count": 711,
   "id": "147b84ab",
   "metadata": {},
   "outputs": [
    {
     "name": "stdout",
     "output_type": "stream",
     "text": [
      " -----------\n",
      "| Cluster 3 |\n",
      " -----------\n",
      "\n",
      "Proportion of Observations\n",
      "--------------------------\n",
      "0.88\n",
      "\n",
      "is_video\n",
      "-------\n",
      "is_video\n",
      "not_video    0.75\n",
      "video        0.25\n",
      "  \n",
      "\n"
     ]
    }
   ],
   "source": [
    "# dynamic string with value counts for each demographic (cluster 1)\n",
    "print(f\"\"\"\\\n",
    " -----------\n",
    "| Cluster 3 |\n",
    " -----------\n",
    "\n",
    "Proportion of Observations\n",
    "--------------------------\n",
    "{round(len(final_df.loc[ : , \"Cluster\"][final_df.loc[ : , \"Cluster\"] == '3']) /\n",
    "       len(final_df), ndigits = 2)}\n",
    "\n",
    "is_video\n",
    "-------\n",
    "{final_df.loc[ : , \"is_video\"][ final_df.loc[ : , 'Cluster' ] == '3']\n",
    "\n",
    "         .value_counts(normalize = True)\n",
    "         .round(decimals = 2)\n",
    "         .sort_index().to_string(dtype = False, name = False)}\n",
    "  \n",
    "\"\"\")"
   ]
  },
  {
   "cell_type": "code",
   "execution_count": 712,
   "id": "b431e895",
   "metadata": {},
   "outputs": [
    {
     "name": "stdout",
     "output_type": "stream",
     "text": [
      " -----------\n",
      "| Cluster 4 |\n",
      " -----------\n",
      "\n",
      "Proportion of Observations\n",
      "--------------------------\n",
      "0.02\n",
      "\n",
      "is_video\n",
      "-------\n",
      "is_video\n",
      "video    1.0\n",
      "\n",
      "\n"
     ]
    }
   ],
   "source": [
    "# dynamic string with value counts for each demographic (cluster 1)\n",
    "print(f\"\"\"\\\n",
    " -----------\n",
    "| Cluster 4 |\n",
    " -----------\n",
    "\n",
    "Proportion of Observations\n",
    "--------------------------\n",
    "{round(len(final_df.loc[ : , \"Cluster\"][final_df.loc[ : , \"Cluster\"] == '4']) /\n",
    "       len(final_df), ndigits = 2)}\n",
    "\n",
    "is_video\n",
    "-------\n",
    "{final_df.loc[ : , \"is_video\"][ final_df.loc[ : , 'Cluster' ] == '4']\n",
    "\n",
    "         .value_counts(normalize = True)\n",
    "         .round(decimals = 2)\n",
    "         .sort_index().to_string(dtype = False, name = False)}\n",
    "\n",
    "\"\"\")"
   ]
  },
  {
   "cell_type": "code",
   "execution_count": 713,
   "id": "dbdd454c",
   "metadata": {},
   "outputs": [
    {
     "name": "stdout",
     "output_type": "stream",
     "text": [
      " -----------\n",
      "| Cluster 5 |\n",
      " -----------\n",
      "\n",
      "Proportion of Observations\n",
      "--------------------------\n",
      "0.0\n",
      "\n",
      "\n",
      "is_video\n",
      "-------\n",
      "is_video\n",
      "not_video    0.67\n",
      "video        0.33\n",
      "  \n"
     ]
    }
   ],
   "source": [
    "# dynamic string with value counts for each demographic (cluster 1)\n",
    "print(f\"\"\"\\\n",
    " -----------\n",
    "| Cluster 5 |\n",
    " -----------\n",
    "\n",
    "Proportion of Observations\n",
    "--------------------------\n",
    "{round(len(final_df.loc[ : , \"Cluster\"][final_df.loc[ : , \"Cluster\"] == '5']) /\n",
    "       len(final_df), ndigits = 2)}\n",
    "\n",
    "\n",
    "is_video\n",
    "-------\n",
    "{final_df.loc[ : , \"is_video\"][ final_df.loc[ : , 'Cluster' ] == '5']\n",
    "\n",
    "         .value_counts(normalize = True)\n",
    "         .round(decimals = 2)\n",
    "         .sort_index().to_string(dtype = False, name = False)}\n",
    "  \"\"\")"
   ]
  },
  {
   "cell_type": "markdown",
   "id": "22c256df",
   "metadata": {},
   "source": [
    "<hr style=\"height:.9px;border:none;color:#333;background-color:#333;\" />\n",
    "<h2>Analysis Questions 4</h2><br>\n",
    "\n",
    "1. Decide on an ideal number of clusters and explain your rationale. (minimum 5 sentences)\n",
    "\n",
    "<h5>Answer</h5>\n",
    "\n",
    "- **Scree Plot Analysis:** The scree plot suggests that the first 5 components explain a substantial amount of the variance, with a noticeable elbow after the 5th component. This could be an indication that 5 clusters would be appropriate.\n",
    "\n",
    "- **Dendrogram Analysis:** The dendrogram supports the possibility of four or five clusters based on the large jumps in merge distances. The significant increase in distance after the fourth and fifth merges suggests natural groupings in the data.\n",
    "\n",
    "- **Variance Explanation:** Ideally, the retained clusters should explain a high percentage of the variance in the data. In this case, the first five principal components explain the majority of the variance, which may align well with the 5 clusters.\n",
    "\n",
    "- Choosing five clusters is backed up by model results, which show improved performance with five clusters compared to four. This suggests that the fifth cluster adds valuable differentiation between data points that might otherwise be grouped too broadly.\n",
    "\n",
    "- In essence, five clusters align with the analysis from both the scree plot and dendrogram, reinforcing a cohesive structure within the data. This choice supports a detailed yet manageable segmentation, providing actionable insights for marketing strategies that are well-defined and targeted.\n",
    "\n",
    "\n",
    "2. Present and interpret each segment using cluster centroids and give an example of a \"normal\" post in each segment. (minimum 5 sentences per segment)\n",
    "\n",
    "<h5>Answer</h5>\n",
    "\n",
    "-  **Cluster 1 - \"Balanced Engagers\"**. With moderate centroid values, this section is likely to contain postings with a balanced amount of involvement and no extreme reactions. They are neither hugely contentious or overtly emotive, yet they maintain a consistent level of positive involvement. A example post may be a conventional advertising video with moderate likes and shares, indicating broad satisfaction but no significant emotions.\n",
    "   A routine update on a new clothing item, with some likes and comments but no major controversy or emotional reactions.\n",
    "   \n",
    "-  **Cluster 2 - \"Reaction Provokers\"**: This section has the highest centroid value for \"Instinctual Reactions\" and negative values for \"Emotional Complexity\" and \"Sympathetic Engagement\", indicating that these postings evoke strong, instant reactions such as wrath or astonishment. They may be contentious or conflicting .\n",
    "  Example : A video post with a strong statement or surprising material that elicits a large number of \"angry\" or \"wow\" responses.\n",
    "\n",
    "- **Cluster 3 - \"Quiet Observers\"**: Posts in this section tend to receive relatively little involvement overall, as seen by the low centroid values for all components. These posts are likely to go undetected or receive little response from viewers.\n",
    "   Example : A simple informational text post that does not generate much conversation, sharing, or emotional response.\n",
    "   \n",
    "- **Cluster 4 - \"Emotionally Charged\"**. With high scores for \"Emotional Complexity\" and \"Sympathetic Engagement\", postings in this cluster are likely to elicit sympathetic and diverse emotional reactions from the audience. These might be postings with emotionally charged material, such as those about charities or social causes.\n",
    "  Example: A emotional video about a community project that generates a lot of \"love\" replies and sparks conversations in the comments.\n",
    "\n",
    "- **Cluster 5 - \"Highly Engaging\"**: The centroid values correspond to postings that are extremely engaging and generate significant positive and diverse emotional responses. They may be fascinating or engaging, resulting in high levels of involvement.\n",
    "  Example: A viral video challenge tied to a popular trend that obtains extensive \"likes\", \"loves\", and shares, potentially accompanied by various emotional responses such as \"haha\" or \"wow\".\n",
    "\n",
    "\n",
    "3. Analyze the status types of each segment and report any findings related to videos. (minimum 5)\n",
    "\n",
    "<h5>Answer</h5>\n",
    "\n",
    "- **Cluster 1.** This segment has a high preference for video content, with 97% being videos. It appears to attract a user  base that is  actively engaged with video content, implying that such content is compelling and possibly well-targeted for its intended audience.\n",
    "  \n",
    "- **Cluster 2.** Videos account for 82% of the dataset, despite their smaller proportion. This suggests that video content that is potentially controversial or thought-provoking tends to generate engagement, potentially eliciting reactions and discussions from users.\n",
    "\n",
    "- **Cluster 3.** This cluster may include less interactive posts or even static images, as 75% of users do not interact with video content. Within this group, which may prefer other types of content or be less inclined to interact, video content does not appear to perform as well.\n",
    "\n",
    "- **Cluster 4.** It's interesting to note that this cluster has 100% video engagement, suggesting that emotionally charged video content works very well with this particular audience. It implies that people are more likely to be completely engaged when videos appeal to their emotions.\n",
    "\n",
    "- **Cluster 5.** Non-video content makes up two thirds of this segment's content. It seems that a variety of extremely engaging content types that don't rely exclusively on videos may be the main source of engagement in this case, or videos may not even be the main driver.\n",
    "\n",
    "\n",
    "\n",
    "\n",
    "<hr style=\"height:.9px;border:none;color:#333;background-color:#333;\" />"
   ]
  },
  {
   "cell_type": "markdown",
   "id": "f3c76962",
   "metadata": {},
   "source": [
    "<hr style=\"height:.9px;border:none;color:#333;background-color:#333;\" /><br>\n",
    "\n",
    "<h1>Part VI: Develop three logistic regression models</h1><br>\n",
    "\n",
    "<hr style=\"height:.9px;border:none;color:#333;background-color:#333;\" /><br>"
   ]
  },
  {
   "cell_type": "markdown",
   "id": "4e6167cb",
   "metadata": {},
   "source": [
    "<h2>Model 1: Original x-features</h3><br>"
   ]
  },
  {
   "cell_type": "code",
   "execution_count": 714,
   "id": "1e79b365",
   "metadata": {},
   "outputs": [],
   "source": [
    "\n",
    "#from sklearn.preprocessing import StandardScaler\n",
    "#?# Do we get better results when we scale the factor loadings? #?#\n",
    "df_pca_scaled = standard_scaler(df = pd.DataFrame(data = metrics_scaled ))\n",
    "\n",
    "\n",
    "# selecting x- and y-data\n",
    "x_data = metrics_scaled \n",
    "y_data = df['is_video']\n",
    "\n",
    "\n",
    "# training and testing sets\n",
    "x_train, x_test, y_train, y_test = train_test_split(x_data,\n",
    "                                                    y_data,\n",
    "                                                    test_size    = 0.25,\n",
    "                                                    random_state = 702,\n",
    "                                                    stratify     = y_data)\n",
    "\n"
   ]
  },
  {
   "cell_type": "code",
   "execution_count": 715,
   "id": "ede3e90a",
   "metadata": {},
   "outputs": [
    {
     "name": "stdout",
     "output_type": "stream",
     "text": [
      "\n",
      "Train-Test Gap: 0.016\n",
      "Test AUC Score: 0.72\n",
      "\n"
     ]
    }
   ],
   "source": [
    "import sklearn.linear_model                                 # classification modeling\n",
    "\n",
    "# INSTANTIATING a logistic regression model\n",
    "model = sklearn.linear_model.LogisticRegression(solver       = 'lbfgs',\n",
    "                                                C            = 1,\n",
    "                                                class_weight =\"balanced\",\n",
    "                                                random_state = 702)\n",
    "\n",
    "\n",
    "# FITTING the training data\n",
    "model_fit = model.fit(x_train, y_train)\n",
    "\n",
    "\n",
    "# PREDICTING based on the testing set\n",
    "model_pred = model_fit.predict(x_test) # predict_proba for multiclass\n",
    "\n",
    "\n",
    "# checking results\n",
    "train_acc = model_fit.score(x_train, y_train)\n",
    "test_acc  = model_fit.score(x_test , y_test )\n",
    "roc_score = roc_auc_score  (y_true      = y_test,\n",
    "                            y_score     = model_pred)\n",
    "\n",
    "\n",
    "print(f\"\"\"\n",
    "Train-Test Gap: {abs(train_acc - test_acc).round(decimals = 3)}\n",
    "Test AUC Score: {roc_score.round(decimals = 3)}\n",
    "\"\"\")"
   ]
  },
  {
   "cell_type": "code",
   "execution_count": 716,
   "id": "14b02f25",
   "metadata": {},
   "outputs": [
    {
     "name": "stdout",
     "output_type": "stream",
     "text": [
      "\n",
      "True Negatives : 362\n",
      "False Positives: 18\n",
      "False Negatives: 100\n",
      "True Positives : 95\n",
      "\n"
     ]
    }
   ],
   "source": [
    "# unpacking the confusion matrix\n",
    "model_tn, \\\n",
    "model_fp, \\\n",
    "model_fn, \\\n",
    "model_tp = confusion_matrix(y_true = y_test, y_pred = model_pred).ravel()\n",
    "\n",
    "\n",
    "# printing each result one-by-one\n",
    "print(f\"\"\"\n",
    "True Negatives : {model_tn}\n",
    "False Positives: {model_fp}\n",
    "False Negatives: {model_fn}\n",
    "True Positives : {model_tp}\n",
    "\"\"\")"
   ]
  },
  {
   "cell_type": "markdown",
   "id": "dec6cfc7",
   "metadata": {},
   "source": [
    "<hr style=\"height:.9px;border:none;color:#333;background-color:#333;\" />\n",
    "\n",
    "Model 1: Original x-features\n",
    "\n",
    "Train-Test Gap: The gap between train and test accuracy is 0.016, indicating the model is not overfitting and generalizes well.\n",
    "\n",
    "Test AUC Score: An AUC of 0.72 suggests the model has good discriminative ability between the classes.\n",
    "\n",
    "Confusion Matrix: With 362 true negatives and 95 true positives, the model correctly identifies most of the non-video and video posts. However, there are 18 false positives and 100 false negatives. False positives may lead to misclassifying a non-video as a video, which could be a minor issue. False negatives are more problematic as they involve missing out on video content, which is crucial if the model is used to identify video content for marketing strategies.\n",
    "\n",
    "<hr style=\"height:.9px;border:none;color:#333;background-color:#333;\" />"
   ]
  },
  {
   "cell_type": "markdown",
   "id": "497c757a",
   "metadata": {},
   "source": [
    "<h2>Model 2: Retained principal components</h3><br>"
   ]
  },
  {
   "cell_type": "code",
   "execution_count": 717,
   "id": "d996bfc7",
   "metadata": {},
   "outputs": [],
   "source": [
    "#from sklearn.preprocessing import StandardScaler\n",
    "#?# Do we get better results when we scale the factor loadings? #?#\n",
    "df_pca_scaled = standard_scaler(df = pd.DataFrame(data = df_pca_5))\n",
    "\n",
    "\n",
    "# selecting x- and y-data\n",
    "x_pca_data = df_pca_5\n",
    "y_pca_data = df['is_video']\n",
    "\n",
    "# training and testing sets\n",
    "x_pca_train, x_pca_test, y_pca_train, y_pca_test = train_test_split(x_pca_data,\n",
    "                                                                    y_pca_data,\n",
    "                                                                    test_size    = 0.25,\n",
    "                                                                    random_state = 702,\n",
    "                                                                    stratify     = y_data)"
   ]
  },
  {
   "cell_type": "code",
   "execution_count": 718,
   "id": "2fc81c37",
   "metadata": {},
   "outputs": [
    {
     "name": "stdout",
     "output_type": "stream",
     "text": [
      "\n",
      "Train-Test Gap: 0.021\n",
      "Test AUC Score: 0.708\n",
      "\n"
     ]
    }
   ],
   "source": [
    "# INSTANTIATING a logistic regression model\n",
    "pca_model = sklearn.linear_model.LogisticRegression(solver       = 'lbfgs',\n",
    "                                                    C            = 1,\n",
    "                                                    class_weight=\"balanced\",\n",
    "                                                    random_state = 702)\n",
    "\n",
    "\n",
    "# FITTING the training data\n",
    "pca_model_fit = pca_model.fit(x_pca_train, y_pca_train)\n",
    "\n",
    "\n",
    "# PREDICTING based on the testing set\n",
    "pca_model_pred = pca_model_fit.predict(x_pca_test) # predict_proba for multiclass\n",
    "\n",
    "\n",
    "# Checking results\n",
    "train_acc = pca_model_fit.score(x_pca_train, y_pca_train)\n",
    "test_acc  = pca_model_fit.score(x_pca_test, y_pca_test)\n",
    "roc_score = roc_auc_score(y_true=y_pca_test, y_score=pca_model_pred)\n",
    "\n",
    "print(f\"\"\"\n",
    "Train-Test Gap: {abs(train_acc - test_acc).round(decimals=3)}\n",
    "Test AUC Score: {roc_score.round(decimals=3)}\n",
    "\"\"\")\n"
   ]
  },
  {
   "cell_type": "code",
   "execution_count": 719,
   "id": "6a2aded4",
   "metadata": {},
   "outputs": [
    {
     "name": "stdout",
     "output_type": "stream",
     "text": [
      "\n",
      "True Negatives : 359\n",
      "False Positives: 21\n",
      "False Negatives: 103\n",
      "True Positives : 92\n",
      "\n"
     ]
    }
   ],
   "source": [
    "# unpacking the confusion matrix\n",
    "model_tn, \\\n",
    "model_fp, \\\n",
    "model_fn, \\\n",
    "model_tp = confusion_matrix(y_true = y_test, y_pred = pca_model_pred).ravel()\n",
    "\n",
    "\n",
    "# printing each result one-by-one\n",
    "print(f\"\"\"\n",
    "True Negatives : {model_tn}\n",
    "False Positives: {model_fp}\n",
    "False Negatives: {model_fn}\n",
    "True Positives : {model_tp}\n",
    "\"\"\")"
   ]
  },
  {
   "cell_type": "markdown",
   "id": "0ead23f1",
   "metadata": {},
   "source": [
    "<hr style=\"height:.9px;border:none;color:#333;background-color:#333;\" />\n",
    "\n",
    "Model 2: Retained principal components\n",
    "Train-Test Gap: Slightly higher at 0.021, yet still indicative of good generalization.\n",
    "\n",
    "Test AUC Score: A slightly lower AUC of 0.708, but still indicates a good model.\n",
    "\n",
    "Confusion Matrix: This model has 359 true negatives and 92 true positives. The false positives have increased to 21, and false negatives to 103. The increase in false negatives is concerning for reasons similar to Model 1.\n",
    "\n",
    "<hr style=\"height:.9px;border:none;color:#333;background-color:#333;\" />"
   ]
  },
  {
   "cell_type": "markdown",
   "id": "006330bb",
   "metadata": {},
   "source": [
    "<h2>Model 3: Retained clusters</h3><br>"
   ]
  },
  {
   "cell_type": "code",
   "execution_count": 720,
   "id": "eb122b75",
   "metadata": {},
   "outputs": [
    {
     "data": {
      "text/plain": [
       "1  2  3  4\n",
       "1  0  0  0      22\n",
       "0  1  0  0    2010\n",
       "   0  1  0      46\n",
       "      0  1       6\n",
       "         0     213\n",
       "Name: count, dtype: int64"
      ]
     },
     "execution_count": 720,
     "metadata": {},
     "output_type": "execute_result"
    }
   ],
   "source": [
    "# factorizing cluster results \n",
    "cluster_df = pd.get_dummies(data       = df_kmeans_pca['Cluster'],\n",
    "                            drop_first = True).astype(dtype = int)\n",
    "\n",
    "\n",
    "# checking results\n",
    "cluster_df.value_counts(normalize = False).sort_index(ascending = False)"
   ]
  },
  {
   "cell_type": "code",
   "execution_count": 721,
   "id": "11b42caa",
   "metadata": {},
   "outputs": [],
   "source": [
    "# selecting x- and y-data\n",
    "x_cluster_data = cluster_df\n",
    "y_cluster_data = df['is_video']\n",
    "\n",
    "\n",
    "# training and testing sets\n",
    "x_cluster_train, x_cluster_test, y_cluster_train, y_cluster_test = train_test_split(x_cluster_data,\n",
    "                                                                                    y_cluster_data,\n",
    "                                                                                    test_size    = 0.25,\n",
    "                                                                                    random_state = 702,\n",
    "                                                                                    stratify     = y_data)"
   ]
  },
  {
   "cell_type": "code",
   "execution_count": 722,
   "id": "91294a88",
   "metadata": {},
   "outputs": [
    {
     "name": "stdout",
     "output_type": "stream",
     "text": [
      "\n",
      "Train-Test Gap: 0.004\n",
      "Test AUC Score: 0.676\n",
      "\n"
     ]
    }
   ],
   "source": [
    "# INSTANTIATING a logistic regression model\n",
    "cluster_model = sklearn.linear_model.LogisticRegression(solver = 'lbfgs',\n",
    "                                                C            = 1,\n",
    "                                                class_weight =\"balanced\",\n",
    "                                                random_state = 702)\n",
    "\n",
    "\n",
    "# FITTING the training data\n",
    "cluster_model_fit = cluster_model.fit(x_cluster_train, y_cluster_train)\n",
    "\n",
    "\n",
    "# PREDICTING based on the testing set\n",
    "cluster_model_pred = cluster_model_fit.predict(x_cluster_test) # predict_proba for multiclass\n",
    "\n",
    "\n",
    "# checking results\n",
    "train_acc = cluster_model_fit.score(x_cluster_train, y_cluster_train)\n",
    "test_acc  = cluster_model_fit.score(x_cluster_test , y_cluster_test)\n",
    "roc_score = roc_auc_score  (y_true  = y_cluster_test,\n",
    "                            y_score = cluster_model_pred)\n",
    "\n",
    "\n",
    "print(f\"\"\"\n",
    "Train-Test Gap: {abs(train_acc - test_acc).round(decimals = 3)}\n",
    "Test AUC Score: {roc_score.round(decimals = 3)}\n",
    "\"\"\")"
   ]
  },
  {
   "cell_type": "code",
   "execution_count": 723,
   "id": "46fae071",
   "metadata": {},
   "outputs": [
    {
     "name": "stdout",
     "output_type": "stream",
     "text": [
      "\n",
      "True Negatives : 377\n",
      "False Positives: 3\n",
      "False Negatives: 125\n",
      "True Positives : 70\n",
      "\n"
     ]
    }
   ],
   "source": [
    "# unpacking the confusion matrix\n",
    "model_tn, \\\n",
    "model_fp, \\\n",
    "model_fn, \\\n",
    "model_tp = confusion_matrix(y_true = y_cluster_test, y_pred = cluster_model_pred).ravel()\n",
    "\n",
    "\n",
    "# printing each result one-by-one\n",
    "print(f\"\"\"\n",
    "True Negatives : {model_tn}\n",
    "False Positives: {model_fp}\n",
    "False Negatives: {model_fn}\n",
    "True Positives : {model_tp}\n",
    "\"\"\")"
   ]
  },
  {
   "cell_type": "markdown",
   "id": "f1871206",
   "metadata": {},
   "source": [
    "<hr style=\"height:.9px;border:none;color:#333;background-color:#333;\" />\n",
    "\n",
    "Model 3: Retained clusters\n",
    "Train-Test Gap: Very small at 0.004, showing excellent consistency between training and test performance.\n",
    "\n",
    "Test AUC Score: The AUC dropped to 0.676, suggesting this model is less effective at discrimination compared to the previous models.\n",
    "\n",
    "Confusion Matrix: There are 377 true negatives and 70 true positives. The false positives are very low at 3, but the false negatives have significantly increased to 125. This indicates the model is conservative in predicting videos, preferring to predict non-video posts, which could lead to missed opportunities if used for targeting video content.\n",
    "\n",
    "<hr style=\"height:.9px;border:none;color:#333;background-color:#333;\" />"
   ]
  },
  {
   "cell_type": "markdown",
   "id": "a3ffc1dd",
   "metadata": {},
   "source": [
    "<hr style=\"height:.9px;border:none;color:#333;background-color:#333;\" />\n",
    "<h2>Analysis Questions 5</h2><br>\n",
    "Select your best model from above and present the following:\n",
    "\n",
    "1. Your rationale for why this is the best model. (minimum 5 sentences)\n",
    "2. Model results: train-test gap based on accuracy and AUC score based on the results of the .predict step\n",
    "3. Confusion matrix: Explain each error and its risks. (minimum 5 sentences)\n",
    "\n",
    "**Model 1, which uses the original x-features, appears to be the best performing model.**\n",
    "\n",
    "Train-Test Gap: 0.016. This indicates consistency in performance from the training data set to the test data set, showing the model's stability.\n",
    "AUC Score: 0.72. The Area Under the Curve represents the model's ability to classify with a true positive rate higher than the false positive rate. A score of 0.72 is relatively good, showing that the model has a reasonable ability to distinguish between classes.\n",
    "\n",
    "The confusion matrix for Model 1 shows that it has a reasonable balance between true positives (95) and false negatives (100), as well as between true negatives (362) and false positives (18). This balance is important because it shows that the model is not overly biased towards predicting one class over the other. However, false negatives and false positives both represent errors that could have implications, depending on the business context.\n",
    "False negatives (predicting a non-video post when it is actually a video) could lead to missed opportunities for engagement if the model is used to prioritize video content. Conversely, false positives (predicting a video when it is not) could result in allocating resources to content that might not perform as expected.\n",
    "\n",
    "In summary, Model 1 strikes a good balance between accuracy and AUC score, suggesting it has good discriminative ability while maintaining an acceptable level of generalizability. The errors shown in the confusion matrix are relatively balanced, reducing the risk of the model being overly biased towards one class, making it a good choice for practical application. However, careful consideration should be given to the context in which this model will be applied, and the implications of its errors should be evaluated in that light\n",
    "\n",
    "\n",
    "\n",
    "\n",
    "<hr style=\"height:.9px;border:none;color:#333;background-color:#333;\" />"
   ]
  },
  {
   "cell_type": "code",
   "execution_count": null,
   "id": "39d573d9",
   "metadata": {},
   "outputs": [],
   "source": []
  }
 ],
 "metadata": {
  "kernelspec": {
   "display_name": "Python 3 (ipykernel)",
   "language": "python",
   "name": "python3"
  },
  "language_info": {
   "codemirror_mode": {
    "name": "ipython",
    "version": 3
   },
   "file_extension": ".py",
   "mimetype": "text/x-python",
   "name": "python",
   "nbconvert_exporter": "python",
   "pygments_lexer": "ipython3",
   "version": "3.11.5"
  },
  "toc": {
   "base_numbering": 1,
   "nav_menu": {},
   "number_sections": true,
   "sideBar": true,
   "skip_h1_title": false,
   "title_cell": "Table of Contents",
   "title_sidebar": "Contents",
   "toc_cell": false,
   "toc_position": {},
   "toc_section_display": true,
   "toc_window_display": false
  },
  "varInspector": {
   "cols": {
    "lenName": 16,
    "lenType": 16,
    "lenVar": 40
   },
   "kernels_config": {
    "python": {
     "delete_cmd_postfix": "",
     "delete_cmd_prefix": "del ",
     "library": "var_list.py",
     "varRefreshCmd": "print(var_dic_list())"
    },
    "r": {
     "delete_cmd_postfix": ") ",
     "delete_cmd_prefix": "rm(",
     "library": "var_list.r",
     "varRefreshCmd": "cat(var_dic_list()) "
    }
   },
   "types_to_exclude": [
    "module",
    "function",
    "builtin_function_or_method",
    "instance",
    "_Feature"
   ],
   "window_display": false
  }
 },
 "nbformat": 4,
 "nbformat_minor": 5
}
